{
 "cells": [
  {
   "cell_type": "markdown",
   "metadata": {},
   "source": [
    "# Ερωτηση 3 | 3.Δ"
   ]
  },
  {
   "cell_type": "code",
   "execution_count": 1,
   "metadata": {},
   "outputs": [],
   "source": [
    "import pandas as pd\n",
    "import numpy as np\n",
    "from matplotlib import pyplot as plt\n",
    "from datetime import timedelta\n",
    "import datetime as datetime\n",
    "import seaborn as sns\n",
    "import scipy as sp \n",
    "from scipy import stats\n",
    "from math import floor\n",
    "%matplotlib inline"
   ]
  },
  {
   "cell_type": "code",
   "execution_count": 2,
   "metadata": {},
   "outputs": [
    {
     "name": "stdout",
     "output_type": "stream",
     "text": [
      "(11070, 15)\n"
     ]
    },
    {
     "data": {
      "text/plain": [
       "(881973, 9)"
      ]
     },
     "execution_count": 2,
     "metadata": {},
     "output_type": "execute_result"
    }
   ],
   "source": [
    "df_bus = pd.read_csv(\"business.csv\") # Businesses Dataframe\n",
    "df_rev = pd.read_csv('reviews.csv') # Reviews Dataframe\n",
    "df_rev_copy = df_rev    # used for Attire categorization\n",
    "print(df_bus.shape)\n",
    "df_rev.shape"
   ]
  },
  {
   "cell_type": "markdown",
   "metadata": {},
   "source": [
    "## Categorization based on the Price"
   ]
  },
  {
   "cell_type": "code",
   "execution_count": 3,
   "metadata": {},
   "outputs": [
    {
     "name": "stdout",
     "output_type": "stream",
     "text": [
      "(4829, 15)\n"
     ]
    },
    {
     "data": {
      "text/html": [
       "<div>\n",
       "<style scoped>\n",
       "    .dataframe tbody tr th:only-of-type {\n",
       "        vertical-align: middle;\n",
       "    }\n",
       "\n",
       "    .dataframe tbody tr th {\n",
       "        vertical-align: top;\n",
       "    }\n",
       "\n",
       "    .dataframe thead th {\n",
       "        text-align: right;\n",
       "    }\n",
       "</style>\n",
       "<table border=\"1\" class=\"dataframe\">\n",
       "  <thead>\n",
       "    <tr style=\"text-align: right;\">\n",
       "      <th></th>\n",
       "      <th>Unnamed: 0</th>\n",
       "      <th>business_id</th>\n",
       "      <th>name</th>\n",
       "      <th>address</th>\n",
       "      <th>city</th>\n",
       "      <th>state</th>\n",
       "      <th>postal_code</th>\n",
       "      <th>latitude</th>\n",
       "      <th>longitude</th>\n",
       "      <th>stars</th>\n",
       "      <th>review_count</th>\n",
       "      <th>is_open</th>\n",
       "      <th>attributes</th>\n",
       "      <th>categories</th>\n",
       "      <th>hours</th>\n",
       "    </tr>\n",
       "  </thead>\n",
       "  <tbody>\n",
       "    <tr>\n",
       "      <th>0</th>\n",
       "      <td>0</td>\n",
       "      <td>MTSW4McQd7CbVtyjqoe9mw</td>\n",
       "      <td>St Honore Pastries</td>\n",
       "      <td>935 Race St</td>\n",
       "      <td>Philadelphia</td>\n",
       "      <td>PA</td>\n",
       "      <td>19107.0</td>\n",
       "      <td>39.955505</td>\n",
       "      <td>-75.155564</td>\n",
       "      <td>4.0</td>\n",
       "      <td>80</td>\n",
       "      <td>1</td>\n",
       "      <td>{'RestaurantsDelivery': 'False', 'OutdoorSeati...</td>\n",
       "      <td>Restaurants, Food, Bubble Tea, Coffee &amp; Tea, B...</td>\n",
       "      <td>{'Monday': '7:0-20:0', 'Tuesday': '7:0-20:0', ...</td>\n",
       "    </tr>\n",
       "    <tr>\n",
       "      <th>1</th>\n",
       "      <td>1</td>\n",
       "      <td>MUTTqe8uqyMdBl186RmNeA</td>\n",
       "      <td>Tuna Bar</td>\n",
       "      <td>205 Race St</td>\n",
       "      <td>Philadelphia</td>\n",
       "      <td>PA</td>\n",
       "      <td>19106.0</td>\n",
       "      <td>39.953949</td>\n",
       "      <td>-75.143226</td>\n",
       "      <td>4.0</td>\n",
       "      <td>245</td>\n",
       "      <td>1</td>\n",
       "      <td>{'RestaurantsReservations': 'True', 'Restauran...</td>\n",
       "      <td>Sushi Bars, Restaurants, Japanese</td>\n",
       "      <td>{'Tuesday': '13:30-22:0', 'Wednesday': '13:30-...</td>\n",
       "    </tr>\n",
       "    <tr>\n",
       "      <th>2</th>\n",
       "      <td>2</td>\n",
       "      <td>ROeacJQwBeh05Rqg7F6TCg</td>\n",
       "      <td>BAP</td>\n",
       "      <td>1224 South St</td>\n",
       "      <td>Philadelphia</td>\n",
       "      <td>PA</td>\n",
       "      <td>19147.0</td>\n",
       "      <td>39.943223</td>\n",
       "      <td>-75.162568</td>\n",
       "      <td>4.5</td>\n",
       "      <td>205</td>\n",
       "      <td>1</td>\n",
       "      <td>{'NoiseLevel': \"u'quiet'\", 'GoodForMeal': \"{'d...</td>\n",
       "      <td>Korean, Restaurants</td>\n",
       "      <td>{'Monday': '11:30-20:30', 'Tuesday': '11:30-20...</td>\n",
       "    </tr>\n",
       "  </tbody>\n",
       "</table>\n",
       "</div>"
      ],
      "text/plain": [
       "   Unnamed: 0             business_id                name        address  \\\n",
       "0           0  MTSW4McQd7CbVtyjqoe9mw  St Honore Pastries    935 Race St   \n",
       "1           1  MUTTqe8uqyMdBl186RmNeA            Tuna Bar    205 Race St   \n",
       "2           2  ROeacJQwBeh05Rqg7F6TCg                 BAP  1224 South St   \n",
       "\n",
       "           city state  postal_code   latitude  longitude  stars  review_count  \\\n",
       "0  Philadelphia    PA      19107.0  39.955505 -75.155564    4.0            80   \n",
       "1  Philadelphia    PA      19106.0  39.953949 -75.143226    4.0           245   \n",
       "2  Philadelphia    PA      19147.0  39.943223 -75.162568    4.5           205   \n",
       "\n",
       "   is_open                                         attributes  \\\n",
       "0        1  {'RestaurantsDelivery': 'False', 'OutdoorSeati...   \n",
       "1        1  {'RestaurantsReservations': 'True', 'Restauran...   \n",
       "2        1  {'NoiseLevel': \"u'quiet'\", 'GoodForMeal': \"{'d...   \n",
       "\n",
       "                                          categories  \\\n",
       "0  Restaurants, Food, Bubble Tea, Coffee & Tea, B...   \n",
       "1                  Sushi Bars, Restaurants, Japanese   \n",
       "2                                Korean, Restaurants   \n",
       "\n",
       "                                               hours  \n",
       "0  {'Monday': '7:0-20:0', 'Tuesday': '7:0-20:0', ...  \n",
       "1  {'Tuesday': '13:30-22:0', 'Wednesday': '13:30-...  \n",
       "2  {'Monday': '11:30-20:30', 'Tuesday': '11:30-20...  "
      ]
     },
     "execution_count": 3,
     "metadata": {},
     "output_type": "execute_result"
    }
   ],
   "source": [
    "df_res = df_bus[df_bus['categories'].str.contains('Restaurants')] # businesses that are Restaurants\n",
    "df_res.reset_index(drop=True, inplace=True)\n",
    "df_res.to_csv(\"restaurants.csv\")    # We save the results on a csv file to use for Exercise 3.E\n",
    "df_res_copy = df_res    # used for Attire categorization\n",
    "print(df_res.shape)\n",
    "df_res[0:3]"
   ]
  },
  {
   "cell_type": "code",
   "execution_count": 4,
   "metadata": {},
   "outputs": [],
   "source": [
    "def find_range(a):\n",
    "    try:\n",
    "         return eval(a)[\"RestaurantsPriceRange2\"]\n",
    "    except:\n",
    "        pass\n",
    "    try:\n",
    "        return eval(a)[\"RestaurantPriceRange2\"]\n",
    "    except:\n",
    "        pass"
   ]
  },
  {
   "cell_type": "code",
   "execution_count": 5,
   "metadata": {},
   "outputs": [
    {
     "name": "stdout",
     "output_type": "stream",
     "text": [
      "(4123, 16)\n"
     ]
    },
    {
     "name": "stderr",
     "output_type": "stream",
     "text": [
      "C:\\Users\\Giannis\\AppData\\Local\\Temp/ipykernel_25204/376711067.py:1: SettingWithCopyWarning: \n",
      "A value is trying to be set on a copy of a slice from a DataFrame.\n",
      "Try using .loc[row_indexer,col_indexer] = value instead\n",
      "\n",
      "See the caveats in the documentation: https://pandas.pydata.org/pandas-docs/stable/user_guide/indexing.html#returning-a-view-versus-a-copy\n",
      "  df_res[\"price_range\"] = df_res.attributes.apply(find_range)\n",
      "C:\\Users\\Giannis\\anaconda3\\lib\\site-packages\\pandas\\util\\_decorators.py:311: SettingWithCopyWarning: \n",
      "A value is trying to be set on a copy of a slice from a DataFrame\n",
      "\n",
      "See the caveats in the documentation: https://pandas.pydata.org/pandas-docs/stable/user_guide/indexing.html#returning-a-view-versus-a-copy\n",
      "  return func(*args, **kwargs)\n"
     ]
    },
    {
     "data": {
      "text/html": [
       "<div>\n",
       "<style scoped>\n",
       "    .dataframe tbody tr th:only-of-type {\n",
       "        vertical-align: middle;\n",
       "    }\n",
       "\n",
       "    .dataframe tbody tr th {\n",
       "        vertical-align: top;\n",
       "    }\n",
       "\n",
       "    .dataframe thead th {\n",
       "        text-align: right;\n",
       "    }\n",
       "</style>\n",
       "<table border=\"1\" class=\"dataframe\">\n",
       "  <thead>\n",
       "    <tr style=\"text-align: right;\">\n",
       "      <th></th>\n",
       "      <th>Unnamed: 0</th>\n",
       "      <th>business_id</th>\n",
       "      <th>name</th>\n",
       "      <th>address</th>\n",
       "      <th>city</th>\n",
       "      <th>state</th>\n",
       "      <th>postal_code</th>\n",
       "      <th>latitude</th>\n",
       "      <th>longitude</th>\n",
       "      <th>stars</th>\n",
       "      <th>review_count</th>\n",
       "      <th>is_open</th>\n",
       "      <th>attributes</th>\n",
       "      <th>categories</th>\n",
       "      <th>hours</th>\n",
       "      <th>price_range</th>\n",
       "    </tr>\n",
       "  </thead>\n",
       "  <tbody>\n",
       "    <tr>\n",
       "      <th>0</th>\n",
       "      <td>0</td>\n",
       "      <td>MTSW4McQd7CbVtyjqoe9mw</td>\n",
       "      <td>St Honore Pastries</td>\n",
       "      <td>935 Race St</td>\n",
       "      <td>Philadelphia</td>\n",
       "      <td>PA</td>\n",
       "      <td>19107.0</td>\n",
       "      <td>39.955505</td>\n",
       "      <td>-75.155564</td>\n",
       "      <td>4.0</td>\n",
       "      <td>80</td>\n",
       "      <td>1</td>\n",
       "      <td>{'RestaurantsDelivery': 'False', 'OutdoorSeati...</td>\n",
       "      <td>Restaurants, Food, Bubble Tea, Coffee &amp; Tea, B...</td>\n",
       "      <td>{'Monday': '7:0-20:0', 'Tuesday': '7:0-20:0', ...</td>\n",
       "      <td>1</td>\n",
       "    </tr>\n",
       "    <tr>\n",
       "      <th>1</th>\n",
       "      <td>1</td>\n",
       "      <td>MUTTqe8uqyMdBl186RmNeA</td>\n",
       "      <td>Tuna Bar</td>\n",
       "      <td>205 Race St</td>\n",
       "      <td>Philadelphia</td>\n",
       "      <td>PA</td>\n",
       "      <td>19106.0</td>\n",
       "      <td>39.953949</td>\n",
       "      <td>-75.143226</td>\n",
       "      <td>4.0</td>\n",
       "      <td>245</td>\n",
       "      <td>1</td>\n",
       "      <td>{'RestaurantsReservations': 'True', 'Restauran...</td>\n",
       "      <td>Sushi Bars, Restaurants, Japanese</td>\n",
       "      <td>{'Tuesday': '13:30-22:0', 'Wednesday': '13:30-...</td>\n",
       "      <td>2</td>\n",
       "    </tr>\n",
       "    <tr>\n",
       "      <th>2</th>\n",
       "      <td>2</td>\n",
       "      <td>ROeacJQwBeh05Rqg7F6TCg</td>\n",
       "      <td>BAP</td>\n",
       "      <td>1224 South St</td>\n",
       "      <td>Philadelphia</td>\n",
       "      <td>PA</td>\n",
       "      <td>19147.0</td>\n",
       "      <td>39.943223</td>\n",
       "      <td>-75.162568</td>\n",
       "      <td>4.5</td>\n",
       "      <td>205</td>\n",
       "      <td>1</td>\n",
       "      <td>{'NoiseLevel': \"u'quiet'\", 'GoodForMeal': \"{'d...</td>\n",
       "      <td>Korean, Restaurants</td>\n",
       "      <td>{'Monday': '11:30-20:30', 'Tuesday': '11:30-20...</td>\n",
       "      <td>1</td>\n",
       "    </tr>\n",
       "    <tr>\n",
       "      <th>3</th>\n",
       "      <td>3</td>\n",
       "      <td>QdN72BWoyFypdGJhhI5r7g</td>\n",
       "      <td>Bar One</td>\n",
       "      <td>767 S 9th St</td>\n",
       "      <td>Philadelphia</td>\n",
       "      <td>PA</td>\n",
       "      <td>19147.0</td>\n",
       "      <td>39.939825</td>\n",
       "      <td>-75.157447</td>\n",
       "      <td>4.0</td>\n",
       "      <td>65</td>\n",
       "      <td>0</td>\n",
       "      <td>{'Smoking': \"u'no'\", 'NoiseLevel': \"u'average'...</td>\n",
       "      <td>Cocktail Bars, Bars, Italian, Nightlife, Resta...</td>\n",
       "      <td>{'Monday': '16:0-0:0', 'Tuesday': '16:0-0:0', ...</td>\n",
       "      <td>2</td>\n",
       "    </tr>\n",
       "    <tr>\n",
       "      <th>4</th>\n",
       "      <td>4</td>\n",
       "      <td>Mjboz24M9NlBeiOJKLEd_Q</td>\n",
       "      <td>DeSandro on Main</td>\n",
       "      <td>4105 Main St</td>\n",
       "      <td>Philadelphia</td>\n",
       "      <td>PA</td>\n",
       "      <td>19127.0</td>\n",
       "      <td>40.022466</td>\n",
       "      <td>-75.218314</td>\n",
       "      <td>3.0</td>\n",
       "      <td>41</td>\n",
       "      <td>0</td>\n",
       "      <td>{'RestaurantsReservations': 'False', 'Caters':...</td>\n",
       "      <td>Pizza, Restaurants, Salad, Soup</td>\n",
       "      <td>{'Tuesday': '17:0-21:30', 'Wednesday': '17:0-1...</td>\n",
       "      <td>1</td>\n",
       "    </tr>\n",
       "  </tbody>\n",
       "</table>\n",
       "</div>"
      ],
      "text/plain": [
       "   Unnamed: 0             business_id                name        address  \\\n",
       "0           0  MTSW4McQd7CbVtyjqoe9mw  St Honore Pastries    935 Race St   \n",
       "1           1  MUTTqe8uqyMdBl186RmNeA            Tuna Bar    205 Race St   \n",
       "2           2  ROeacJQwBeh05Rqg7F6TCg                 BAP  1224 South St   \n",
       "3           3  QdN72BWoyFypdGJhhI5r7g             Bar One   767 S 9th St   \n",
       "4           4  Mjboz24M9NlBeiOJKLEd_Q    DeSandro on Main   4105 Main St   \n",
       "\n",
       "           city state  postal_code   latitude  longitude  stars  review_count  \\\n",
       "0  Philadelphia    PA      19107.0  39.955505 -75.155564    4.0            80   \n",
       "1  Philadelphia    PA      19106.0  39.953949 -75.143226    4.0           245   \n",
       "2  Philadelphia    PA      19147.0  39.943223 -75.162568    4.5           205   \n",
       "3  Philadelphia    PA      19147.0  39.939825 -75.157447    4.0            65   \n",
       "4  Philadelphia    PA      19127.0  40.022466 -75.218314    3.0            41   \n",
       "\n",
       "   is_open                                         attributes  \\\n",
       "0        1  {'RestaurantsDelivery': 'False', 'OutdoorSeati...   \n",
       "1        1  {'RestaurantsReservations': 'True', 'Restauran...   \n",
       "2        1  {'NoiseLevel': \"u'quiet'\", 'GoodForMeal': \"{'d...   \n",
       "3        0  {'Smoking': \"u'no'\", 'NoiseLevel': \"u'average'...   \n",
       "4        0  {'RestaurantsReservations': 'False', 'Caters':...   \n",
       "\n",
       "                                          categories  \\\n",
       "0  Restaurants, Food, Bubble Tea, Coffee & Tea, B...   \n",
       "1                  Sushi Bars, Restaurants, Japanese   \n",
       "2                                Korean, Restaurants   \n",
       "3  Cocktail Bars, Bars, Italian, Nightlife, Resta...   \n",
       "4                    Pizza, Restaurants, Salad, Soup   \n",
       "\n",
       "                                               hours price_range  \n",
       "0  {'Monday': '7:0-20:0', 'Tuesday': '7:0-20:0', ...           1  \n",
       "1  {'Tuesday': '13:30-22:0', 'Wednesday': '13:30-...           2  \n",
       "2  {'Monday': '11:30-20:30', 'Tuesday': '11:30-20...           1  \n",
       "3  {'Monday': '16:0-0:0', 'Tuesday': '16:0-0:0', ...           2  \n",
       "4  {'Tuesday': '17:0-21:30', 'Wednesday': '17:0-1...           1  "
      ]
     },
     "execution_count": 5,
     "metadata": {},
     "output_type": "execute_result"
    }
   ],
   "source": [
    "df_res[\"price_range\"] = df_res.attributes.apply(find_range)\n",
    "df_res.dropna(subset=['price_range'], inplace=True)\n",
    "print(df_res.shape)\n",
    "df_res.head()"
   ]
  },
  {
   "cell_type": "markdown",
   "metadata": {},
   "source": [
    "Παραπανω, φιλτραρουμε τα εστιατορια για να βρουμε αυτα που εχουν στα attributes το RestaurantPriceRange."
   ]
  },
  {
   "cell_type": "code",
   "execution_count": 6,
   "metadata": {},
   "outputs": [],
   "source": [
    "def categorize_range(range):\n",
    "    try:\n",
    "        if int(range) < 3:\n",
    "            return \"Cheap\"\n",
    "        return \"Expensive\"\n",
    "    except:\n",
    "        return\n",
    "    "
   ]
  },
  {
   "cell_type": "code",
   "execution_count": 7,
   "metadata": {},
   "outputs": [
    {
     "name": "stdout",
     "output_type": "stream",
     "text": [
      "(4123, 17)\n"
     ]
    },
    {
     "name": "stderr",
     "output_type": "stream",
     "text": [
      "C:\\Users\\Giannis\\AppData\\Local\\Temp/ipykernel_25204/1416425547.py:1: SettingWithCopyWarning: \n",
      "A value is trying to be set on a copy of a slice from a DataFrame.\n",
      "Try using .loc[row_indexer,col_indexer] = value instead\n",
      "\n",
      "See the caveats in the documentation: https://pandas.pydata.org/pandas-docs/stable/user_guide/indexing.html#returning-a-view-versus-a-copy\n",
      "  df_res[\"price_type\"] = df_res[\"price_range\"].apply(categorize_range)\n"
     ]
    },
    {
     "data": {
      "text/html": [
       "<div>\n",
       "<style scoped>\n",
       "    .dataframe tbody tr th:only-of-type {\n",
       "        vertical-align: middle;\n",
       "    }\n",
       "\n",
       "    .dataframe tbody tr th {\n",
       "        vertical-align: top;\n",
       "    }\n",
       "\n",
       "    .dataframe thead th {\n",
       "        text-align: right;\n",
       "    }\n",
       "</style>\n",
       "<table border=\"1\" class=\"dataframe\">\n",
       "  <thead>\n",
       "    <tr style=\"text-align: right;\">\n",
       "      <th></th>\n",
       "      <th>business_id</th>\n",
       "      <th>price_range</th>\n",
       "      <th>price_type</th>\n",
       "    </tr>\n",
       "  </thead>\n",
       "  <tbody>\n",
       "    <tr>\n",
       "      <th>0</th>\n",
       "      <td>MTSW4McQd7CbVtyjqoe9mw</td>\n",
       "      <td>1</td>\n",
       "      <td>Cheap</td>\n",
       "    </tr>\n",
       "    <tr>\n",
       "      <th>1</th>\n",
       "      <td>MUTTqe8uqyMdBl186RmNeA</td>\n",
       "      <td>2</td>\n",
       "      <td>Cheap</td>\n",
       "    </tr>\n",
       "    <tr>\n",
       "      <th>2</th>\n",
       "      <td>ROeacJQwBeh05Rqg7F6TCg</td>\n",
       "      <td>1</td>\n",
       "      <td>Cheap</td>\n",
       "    </tr>\n",
       "    <tr>\n",
       "      <th>3</th>\n",
       "      <td>QdN72BWoyFypdGJhhI5r7g</td>\n",
       "      <td>2</td>\n",
       "      <td>Cheap</td>\n",
       "    </tr>\n",
       "    <tr>\n",
       "      <th>4</th>\n",
       "      <td>Mjboz24M9NlBeiOJKLEd_Q</td>\n",
       "      <td>1</td>\n",
       "      <td>Cheap</td>\n",
       "    </tr>\n",
       "  </tbody>\n",
       "</table>\n",
       "</div>"
      ],
      "text/plain": [
       "              business_id price_range price_type\n",
       "0  MTSW4McQd7CbVtyjqoe9mw           1      Cheap\n",
       "1  MUTTqe8uqyMdBl186RmNeA           2      Cheap\n",
       "2  ROeacJQwBeh05Rqg7F6TCg           1      Cheap\n",
       "3  QdN72BWoyFypdGJhhI5r7g           2      Cheap\n",
       "4  Mjboz24M9NlBeiOJKLEd_Q           1      Cheap"
      ]
     },
     "execution_count": 7,
     "metadata": {},
     "output_type": "execute_result"
    }
   ],
   "source": [
    "df_res[\"price_type\"] = df_res[\"price_range\"].apply(categorize_range)\n",
    "print(df_res.shape)\n",
    "df_res[[\"business_id\", \"price_range\", \"price_type\"]].head()"
   ]
  },
  {
   "cell_type": "markdown",
   "metadata": {},
   "source": [
    "Στην συνεχεια, θα κανουμε join τις επιχειρησεις με τα reviews για να εχουμε προσβαση στα stars"
   ]
  },
  {
   "cell_type": "code",
   "execution_count": 8,
   "metadata": {},
   "outputs": [
    {
     "name": "stdout",
     "output_type": "stream",
     "text": [
      "(4122, 17)\n"
     ]
    },
    {
     "name": "stderr",
     "output_type": "stream",
     "text": [
      "C:\\Users\\Giannis\\anaconda3\\lib\\site-packages\\pandas\\util\\_decorators.py:311: SettingWithCopyWarning: \n",
      "A value is trying to be set on a copy of a slice from a DataFrame\n",
      "\n",
      "See the caveats in the documentation: https://pandas.pydata.org/pandas-docs/stable/user_guide/indexing.html#returning-a-view-versus-a-copy\n",
      "  return func(*args, **kwargs)\n"
     ]
    },
    {
     "data": {
      "text/html": [
       "<div>\n",
       "<style scoped>\n",
       "    .dataframe tbody tr th:only-of-type {\n",
       "        vertical-align: middle;\n",
       "    }\n",
       "\n",
       "    .dataframe tbody tr th {\n",
       "        vertical-align: top;\n",
       "    }\n",
       "\n",
       "    .dataframe thead th {\n",
       "        text-align: right;\n",
       "    }\n",
       "</style>\n",
       "<table border=\"1\" class=\"dataframe\">\n",
       "  <thead>\n",
       "    <tr style=\"text-align: right;\">\n",
       "      <th></th>\n",
       "      <th>Unnamed: 0</th>\n",
       "      <th>business_id</th>\n",
       "      <th>name</th>\n",
       "      <th>address</th>\n",
       "      <th>city</th>\n",
       "      <th>state</th>\n",
       "      <th>postal_code</th>\n",
       "      <th>latitude</th>\n",
       "      <th>longitude</th>\n",
       "      <th>stars</th>\n",
       "      <th>review_count</th>\n",
       "      <th>is_open</th>\n",
       "      <th>attributes</th>\n",
       "      <th>categories</th>\n",
       "      <th>hours</th>\n",
       "      <th>price_range</th>\n",
       "      <th>price_type</th>\n",
       "    </tr>\n",
       "  </thead>\n",
       "  <tbody>\n",
       "    <tr>\n",
       "      <th>0</th>\n",
       "      <td>0</td>\n",
       "      <td>MTSW4McQd7CbVtyjqoe9mw</td>\n",
       "      <td>St Honore Pastries</td>\n",
       "      <td>935 Race St</td>\n",
       "      <td>Philadelphia</td>\n",
       "      <td>PA</td>\n",
       "      <td>19107.0</td>\n",
       "      <td>39.955505</td>\n",
       "      <td>-75.155564</td>\n",
       "      <td>4.0</td>\n",
       "      <td>80</td>\n",
       "      <td>1</td>\n",
       "      <td>{'RestaurantsDelivery': 'False', 'OutdoorSeati...</td>\n",
       "      <td>Restaurants, Food, Bubble Tea, Coffee &amp; Tea, B...</td>\n",
       "      <td>{'Monday': '7:0-20:0', 'Tuesday': '7:0-20:0', ...</td>\n",
       "      <td>1</td>\n",
       "      <td>Cheap</td>\n",
       "    </tr>\n",
       "    <tr>\n",
       "      <th>1</th>\n",
       "      <td>1</td>\n",
       "      <td>MUTTqe8uqyMdBl186RmNeA</td>\n",
       "      <td>Tuna Bar</td>\n",
       "      <td>205 Race St</td>\n",
       "      <td>Philadelphia</td>\n",
       "      <td>PA</td>\n",
       "      <td>19106.0</td>\n",
       "      <td>39.953949</td>\n",
       "      <td>-75.143226</td>\n",
       "      <td>4.0</td>\n",
       "      <td>245</td>\n",
       "      <td>1</td>\n",
       "      <td>{'RestaurantsReservations': 'True', 'Restauran...</td>\n",
       "      <td>Sushi Bars, Restaurants, Japanese</td>\n",
       "      <td>{'Tuesday': '13:30-22:0', 'Wednesday': '13:30-...</td>\n",
       "      <td>2</td>\n",
       "      <td>Cheap</td>\n",
       "    </tr>\n",
       "    <tr>\n",
       "      <th>2</th>\n",
       "      <td>2</td>\n",
       "      <td>ROeacJQwBeh05Rqg7F6TCg</td>\n",
       "      <td>BAP</td>\n",
       "      <td>1224 South St</td>\n",
       "      <td>Philadelphia</td>\n",
       "      <td>PA</td>\n",
       "      <td>19147.0</td>\n",
       "      <td>39.943223</td>\n",
       "      <td>-75.162568</td>\n",
       "      <td>4.5</td>\n",
       "      <td>205</td>\n",
       "      <td>1</td>\n",
       "      <td>{'NoiseLevel': \"u'quiet'\", 'GoodForMeal': \"{'d...</td>\n",
       "      <td>Korean, Restaurants</td>\n",
       "      <td>{'Monday': '11:30-20:30', 'Tuesday': '11:30-20...</td>\n",
       "      <td>1</td>\n",
       "      <td>Cheap</td>\n",
       "    </tr>\n",
       "    <tr>\n",
       "      <th>3</th>\n",
       "      <td>3</td>\n",
       "      <td>QdN72BWoyFypdGJhhI5r7g</td>\n",
       "      <td>Bar One</td>\n",
       "      <td>767 S 9th St</td>\n",
       "      <td>Philadelphia</td>\n",
       "      <td>PA</td>\n",
       "      <td>19147.0</td>\n",
       "      <td>39.939825</td>\n",
       "      <td>-75.157447</td>\n",
       "      <td>4.0</td>\n",
       "      <td>65</td>\n",
       "      <td>0</td>\n",
       "      <td>{'Smoking': \"u'no'\", 'NoiseLevel': \"u'average'...</td>\n",
       "      <td>Cocktail Bars, Bars, Italian, Nightlife, Resta...</td>\n",
       "      <td>{'Monday': '16:0-0:0', 'Tuesday': '16:0-0:0', ...</td>\n",
       "      <td>2</td>\n",
       "      <td>Cheap</td>\n",
       "    </tr>\n",
       "    <tr>\n",
       "      <th>4</th>\n",
       "      <td>4</td>\n",
       "      <td>Mjboz24M9NlBeiOJKLEd_Q</td>\n",
       "      <td>DeSandro on Main</td>\n",
       "      <td>4105 Main St</td>\n",
       "      <td>Philadelphia</td>\n",
       "      <td>PA</td>\n",
       "      <td>19127.0</td>\n",
       "      <td>40.022466</td>\n",
       "      <td>-75.218314</td>\n",
       "      <td>3.0</td>\n",
       "      <td>41</td>\n",
       "      <td>0</td>\n",
       "      <td>{'RestaurantsReservations': 'False', 'Caters':...</td>\n",
       "      <td>Pizza, Restaurants, Salad, Soup</td>\n",
       "      <td>{'Tuesday': '17:0-21:30', 'Wednesday': '17:0-1...</td>\n",
       "      <td>1</td>\n",
       "      <td>Cheap</td>\n",
       "    </tr>\n",
       "  </tbody>\n",
       "</table>\n",
       "</div>"
      ],
      "text/plain": [
       "   Unnamed: 0             business_id                name        address  \\\n",
       "0           0  MTSW4McQd7CbVtyjqoe9mw  St Honore Pastries    935 Race St   \n",
       "1           1  MUTTqe8uqyMdBl186RmNeA            Tuna Bar    205 Race St   \n",
       "2           2  ROeacJQwBeh05Rqg7F6TCg                 BAP  1224 South St   \n",
       "3           3  QdN72BWoyFypdGJhhI5r7g             Bar One   767 S 9th St   \n",
       "4           4  Mjboz24M9NlBeiOJKLEd_Q    DeSandro on Main   4105 Main St   \n",
       "\n",
       "           city state  postal_code   latitude  longitude  stars  review_count  \\\n",
       "0  Philadelphia    PA      19107.0  39.955505 -75.155564    4.0            80   \n",
       "1  Philadelphia    PA      19106.0  39.953949 -75.143226    4.0           245   \n",
       "2  Philadelphia    PA      19147.0  39.943223 -75.162568    4.5           205   \n",
       "3  Philadelphia    PA      19147.0  39.939825 -75.157447    4.0            65   \n",
       "4  Philadelphia    PA      19127.0  40.022466 -75.218314    3.0            41   \n",
       "\n",
       "   is_open                                         attributes  \\\n",
       "0        1  {'RestaurantsDelivery': 'False', 'OutdoorSeati...   \n",
       "1        1  {'RestaurantsReservations': 'True', 'Restauran...   \n",
       "2        1  {'NoiseLevel': \"u'quiet'\", 'GoodForMeal': \"{'d...   \n",
       "3        0  {'Smoking': \"u'no'\", 'NoiseLevel': \"u'average'...   \n",
       "4        0  {'RestaurantsReservations': 'False', 'Caters':...   \n",
       "\n",
       "                                          categories  \\\n",
       "0  Restaurants, Food, Bubble Tea, Coffee & Tea, B...   \n",
       "1                  Sushi Bars, Restaurants, Japanese   \n",
       "2                                Korean, Restaurants   \n",
       "3  Cocktail Bars, Bars, Italian, Nightlife, Resta...   \n",
       "4                    Pizza, Restaurants, Salad, Soup   \n",
       "\n",
       "                                               hours price_range price_type  \n",
       "0  {'Monday': '7:0-20:0', 'Tuesday': '7:0-20:0', ...           1      Cheap  \n",
       "1  {'Tuesday': '13:30-22:0', 'Wednesday': '13:30-...           2      Cheap  \n",
       "2  {'Monday': '11:30-20:30', 'Tuesday': '11:30-20...           1      Cheap  \n",
       "3  {'Monday': '16:0-0:0', 'Tuesday': '16:0-0:0', ...           2      Cheap  \n",
       "4  {'Tuesday': '17:0-21:30', 'Wednesday': '17:0-1...           1      Cheap  "
      ]
     },
     "execution_count": 8,
     "metadata": {},
     "output_type": "execute_result"
    }
   ],
   "source": [
    "df_res.dropna(subset=['stars'], inplace=True)\n",
    "df_res.dropna(subset=['price_type'], inplace=True)\n",
    "print(df_res.shape)\n",
    "df_res.head()"
   ]
  },
  {
   "cell_type": "code",
   "execution_count": 9,
   "metadata": {},
   "outputs": [
    {
     "name": "stdout",
     "output_type": "stream",
     "text": [
      "Number of cheap restaurants: 3882\n",
      "Number of excepensive restaurants: 240\n"
     ]
    },
    {
     "data": {
      "text/plain": [
       "<AxesSubplot:xlabel='price_type', ylabel='stars'>"
      ]
     },
     "execution_count": 9,
     "metadata": {},
     "output_type": "execute_result"
    },
    {
     "data": {
      "image/png": "[encoded data removed]",
      "text/plain": [
       "<Figure size 576x576 with 1 Axes>"
      ]
     },
     "metadata": {
      "needs_background": "light"
     },
     "output_type": "display_data"
    }
   ],
   "source": [
    "print(\"Number of cheap restaurants:\", len(df_res[df_res.price_type == \"Cheap\"]))\n",
    "print(\"Number of excepensive restaurants:\", len(df_res[df_res.price_type == \"Expensive\"]))\n",
    "plt.figure(figsize=(8, 8))\n",
    "sns.pointplot(data=df_res, x = \"price_type\", y = \"stars\", ci= 95, join=False)"
   ]
  },
  {
   "cell_type": "markdown",
   "metadata": {},
   "source": [
    "Μπορουμε να πουμε με μεγαλη βεβαιτοτητα οτι τα ακριβα εστιατορια εχουν καλυτερες κριτικες με διαφορα της ταξης του 0.20 αστερια. Επισης, το error bar στα expensive εστιατορια ειναι αρκετα μεγαλο επειδη εχουμε μονο 240 ακριβα εστιατορια, ενω εχουμε 3882 φθηνα εστιατορια και το error bar ειναι πιο σιγουρο."
   ]
  },
  {
   "cell_type": "code",
   "execution_count": 10,
   "metadata": {},
   "outputs": [
    {
     "data": {
      "text/plain": [
       "Ttest_indResult(statistic=-4.992758742426228, pvalue=6.198456768736231e-07)"
      ]
     },
     "execution_count": 10,
     "metadata": {},
     "output_type": "execute_result"
    }
   ],
   "source": [
    "cheap_stars = df_res[df_res['price_type'] == 'Cheap']['stars']\n",
    "expensive_stars = df_res[df_res['price_type'] == 'Expensive']['stars']\n",
    "\n",
    "stats.ttest_ind(cheap_stars, expensive_stars)"
   ]
  },
  {
   "cell_type": "markdown",
   "metadata": {},
   "source": [
    "Μπορουμε να δουμε πως το pvalue ειναι πολυ μικρο και αυτο δειχνει οτι τα συμπερασματα μας ειναι στατιστικος σημαντικα."
   ]
  },
  {
   "cell_type": "markdown",
   "metadata": {},
   "source": [
    "## Categorization based on the Attire"
   ]
  },
  {
   "cell_type": "code",
   "execution_count": 11,
   "metadata": {},
   "outputs": [
    {
     "name": "stdout",
     "output_type": "stream",
     "text": [
      "(4122, 17)\n"
     ]
    },
    {
     "data": {
      "text/html": [
       "<div>\n",
       "<style scoped>\n",
       "    .dataframe tbody tr th:only-of-type {\n",
       "        vertical-align: middle;\n",
       "    }\n",
       "\n",
       "    .dataframe tbody tr th {\n",
       "        vertical-align: top;\n",
       "    }\n",
       "\n",
       "    .dataframe thead th {\n",
       "        text-align: right;\n",
       "    }\n",
       "</style>\n",
       "<table border=\"1\" class=\"dataframe\">\n",
       "  <thead>\n",
       "    <tr style=\"text-align: right;\">\n",
       "      <th></th>\n",
       "      <th>Unnamed: 0</th>\n",
       "      <th>business_id</th>\n",
       "      <th>name</th>\n",
       "      <th>address</th>\n",
       "      <th>city</th>\n",
       "      <th>state</th>\n",
       "      <th>postal_code</th>\n",
       "      <th>latitude</th>\n",
       "      <th>longitude</th>\n",
       "      <th>stars</th>\n",
       "      <th>review_count</th>\n",
       "      <th>is_open</th>\n",
       "      <th>attributes</th>\n",
       "      <th>categories</th>\n",
       "      <th>hours</th>\n",
       "      <th>price_range</th>\n",
       "      <th>price_type</th>\n",
       "    </tr>\n",
       "  </thead>\n",
       "  <tbody>\n",
       "    <tr>\n",
       "      <th>0</th>\n",
       "      <td>0</td>\n",
       "      <td>MTSW4McQd7CbVtyjqoe9mw</td>\n",
       "      <td>St Honore Pastries</td>\n",
       "      <td>935 Race St</td>\n",
       "      <td>Philadelphia</td>\n",
       "      <td>PA</td>\n",
       "      <td>19107.0</td>\n",
       "      <td>39.955505</td>\n",
       "      <td>-75.155564</td>\n",
       "      <td>4.0</td>\n",
       "      <td>80</td>\n",
       "      <td>1</td>\n",
       "      <td>{'RestaurantsDelivery': 'False', 'OutdoorSeati...</td>\n",
       "      <td>Restaurants, Food, Bubble Tea, Coffee &amp; Tea, B...</td>\n",
       "      <td>{'Monday': '7:0-20:0', 'Tuesday': '7:0-20:0', ...</td>\n",
       "      <td>1</td>\n",
       "      <td>Cheap</td>\n",
       "    </tr>\n",
       "    <tr>\n",
       "      <th>1</th>\n",
       "      <td>1</td>\n",
       "      <td>MUTTqe8uqyMdBl186RmNeA</td>\n",
       "      <td>Tuna Bar</td>\n",
       "      <td>205 Race St</td>\n",
       "      <td>Philadelphia</td>\n",
       "      <td>PA</td>\n",
       "      <td>19106.0</td>\n",
       "      <td>39.953949</td>\n",
       "      <td>-75.143226</td>\n",
       "      <td>4.0</td>\n",
       "      <td>245</td>\n",
       "      <td>1</td>\n",
       "      <td>{'RestaurantsReservations': 'True', 'Restauran...</td>\n",
       "      <td>Sushi Bars, Restaurants, Japanese</td>\n",
       "      <td>{'Tuesday': '13:30-22:0', 'Wednesday': '13:30-...</td>\n",
       "      <td>2</td>\n",
       "      <td>Cheap</td>\n",
       "    </tr>\n",
       "    <tr>\n",
       "      <th>2</th>\n",
       "      <td>2</td>\n",
       "      <td>ROeacJQwBeh05Rqg7F6TCg</td>\n",
       "      <td>BAP</td>\n",
       "      <td>1224 South St</td>\n",
       "      <td>Philadelphia</td>\n",
       "      <td>PA</td>\n",
       "      <td>19147.0</td>\n",
       "      <td>39.943223</td>\n",
       "      <td>-75.162568</td>\n",
       "      <td>4.5</td>\n",
       "      <td>205</td>\n",
       "      <td>1</td>\n",
       "      <td>{'NoiseLevel': \"u'quiet'\", 'GoodForMeal': \"{'d...</td>\n",
       "      <td>Korean, Restaurants</td>\n",
       "      <td>{'Monday': '11:30-20:30', 'Tuesday': '11:30-20...</td>\n",
       "      <td>1</td>\n",
       "      <td>Cheap</td>\n",
       "    </tr>\n",
       "    <tr>\n",
       "      <th>3</th>\n",
       "      <td>3</td>\n",
       "      <td>QdN72BWoyFypdGJhhI5r7g</td>\n",
       "      <td>Bar One</td>\n",
       "      <td>767 S 9th St</td>\n",
       "      <td>Philadelphia</td>\n",
       "      <td>PA</td>\n",
       "      <td>19147.0</td>\n",
       "      <td>39.939825</td>\n",
       "      <td>-75.157447</td>\n",
       "      <td>4.0</td>\n",
       "      <td>65</td>\n",
       "      <td>0</td>\n",
       "      <td>{'Smoking': \"u'no'\", 'NoiseLevel': \"u'average'...</td>\n",
       "      <td>Cocktail Bars, Bars, Italian, Nightlife, Resta...</td>\n",
       "      <td>{'Monday': '16:0-0:0', 'Tuesday': '16:0-0:0', ...</td>\n",
       "      <td>2</td>\n",
       "      <td>Cheap</td>\n",
       "    </tr>\n",
       "    <tr>\n",
       "      <th>4</th>\n",
       "      <td>4</td>\n",
       "      <td>Mjboz24M9NlBeiOJKLEd_Q</td>\n",
       "      <td>DeSandro on Main</td>\n",
       "      <td>4105 Main St</td>\n",
       "      <td>Philadelphia</td>\n",
       "      <td>PA</td>\n",
       "      <td>19127.0</td>\n",
       "      <td>40.022466</td>\n",
       "      <td>-75.218314</td>\n",
       "      <td>3.0</td>\n",
       "      <td>41</td>\n",
       "      <td>0</td>\n",
       "      <td>{'RestaurantsReservations': 'False', 'Caters':...</td>\n",
       "      <td>Pizza, Restaurants, Salad, Soup</td>\n",
       "      <td>{'Tuesday': '17:0-21:30', 'Wednesday': '17:0-1...</td>\n",
       "      <td>1</td>\n",
       "      <td>Cheap</td>\n",
       "    </tr>\n",
       "  </tbody>\n",
       "</table>\n",
       "</div>"
      ],
      "text/plain": [
       "   Unnamed: 0             business_id                name        address  \\\n",
       "0           0  MTSW4McQd7CbVtyjqoe9mw  St Honore Pastries    935 Race St   \n",
       "1           1  MUTTqe8uqyMdBl186RmNeA            Tuna Bar    205 Race St   \n",
       "2           2  ROeacJQwBeh05Rqg7F6TCg                 BAP  1224 South St   \n",
       "3           3  QdN72BWoyFypdGJhhI5r7g             Bar One   767 S 9th St   \n",
       "4           4  Mjboz24M9NlBeiOJKLEd_Q    DeSandro on Main   4105 Main St   \n",
       "\n",
       "           city state  postal_code   latitude  longitude  stars  review_count  \\\n",
       "0  Philadelphia    PA      19107.0  39.955505 -75.155564    4.0            80   \n",
       "1  Philadelphia    PA      19106.0  39.953949 -75.143226    4.0           245   \n",
       "2  Philadelphia    PA      19147.0  39.943223 -75.162568    4.5           205   \n",
       "3  Philadelphia    PA      19147.0  39.939825 -75.157447    4.0            65   \n",
       "4  Philadelphia    PA      19127.0  40.022466 -75.218314    3.0            41   \n",
       "\n",
       "   is_open                                         attributes  \\\n",
       "0        1  {'RestaurantsDelivery': 'False', 'OutdoorSeati...   \n",
       "1        1  {'RestaurantsReservations': 'True', 'Restauran...   \n",
       "2        1  {'NoiseLevel': \"u'quiet'\", 'GoodForMeal': \"{'d...   \n",
       "3        0  {'Smoking': \"u'no'\", 'NoiseLevel': \"u'average'...   \n",
       "4        0  {'RestaurantsReservations': 'False', 'Caters':...   \n",
       "\n",
       "                                          categories  \\\n",
       "0  Restaurants, Food, Bubble Tea, Coffee & Tea, B...   \n",
       "1                  Sushi Bars, Restaurants, Japanese   \n",
       "2                                Korean, Restaurants   \n",
       "3  Cocktail Bars, Bars, Italian, Nightlife, Resta...   \n",
       "4                    Pizza, Restaurants, Salad, Soup   \n",
       "\n",
       "                                               hours price_range price_type  \n",
       "0  {'Monday': '7:0-20:0', 'Tuesday': '7:0-20:0', ...           1      Cheap  \n",
       "1  {'Tuesday': '13:30-22:0', 'Wednesday': '13:30-...           2      Cheap  \n",
       "2  {'Monday': '11:30-20:30', 'Tuesday': '11:30-20...           1      Cheap  \n",
       "3  {'Monday': '16:0-0:0', 'Tuesday': '16:0-0:0', ...           2      Cheap  \n",
       "4  {'Tuesday': '17:0-21:30', 'Wednesday': '17:0-1...           1      Cheap  "
      ]
     },
     "execution_count": 11,
     "metadata": {},
     "output_type": "execute_result"
    }
   ],
   "source": [
    "df_res = df_res_copy\n",
    "print(df_res.shape)\n",
    "df_res.head()"
   ]
  },
  {
   "cell_type": "code",
   "execution_count": 12,
   "metadata": {},
   "outputs": [
    {
     "data": {
      "text/plain": [
       "'casual'"
      ]
     },
     "execution_count": 12,
     "metadata": {},
     "output_type": "execute_result"
    }
   ],
   "source": [
    "eval(df_res.attributes[1])[\"RestaurantsAttire\"].strip(\"'\")"
   ]
  },
  {
   "cell_type": "code",
   "execution_count": 13,
   "metadata": {},
   "outputs": [],
   "source": [
    "def get_attire(a):\n",
    "    try:\n",
    "        tmp = eval(a)[\"RestaurantsAttire\"]\n",
    "        tmp = tmp.strip(\"'\") if (tmp[0] != 'u') else tmp[1:].stip(\"'\")\n",
    "        if tmp == \"dressy\":\n",
    "            tmp = \"formal\"\n",
    "        return tmp\n",
    "    except:\n",
    "        pass"
   ]
  },
  {
   "cell_type": "markdown",
   "metadata": {},
   "source": [
    "Με την παραπανω συναρτηση βρισκω το restaurant attire, κανω clean την μορφη του(υπηρχαν u\"casual\" και επιπλεον '') και αντικαθιστω τα dressy types σε formal, για να εχουμε δυο κατηγοριες formal, casual."
   ]
  },
  {
   "cell_type": "code",
   "execution_count": 14,
   "metadata": {},
   "outputs": [
    {
     "name": "stdout",
     "output_type": "stream",
     "text": [
      "(1511, 18)\n"
     ]
    },
    {
     "name": "stderr",
     "output_type": "stream",
     "text": [
      "C:\\Users\\Giannis\\AppData\\Local\\Temp/ipykernel_25204/3924162056.py:1: SettingWithCopyWarning: \n",
      "A value is trying to be set on a copy of a slice from a DataFrame.\n",
      "Try using .loc[row_indexer,col_indexer] = value instead\n",
      "\n",
      "See the caveats in the documentation: https://pandas.pydata.org/pandas-docs/stable/user_guide/indexing.html#returning-a-view-versus-a-copy\n",
      "  df_res[\"attire\"] = df_res.attributes.apply(get_attire)\n",
      "C:\\Users\\Giannis\\anaconda3\\lib\\site-packages\\pandas\\util\\_decorators.py:311: SettingWithCopyWarning: \n",
      "A value is trying to be set on a copy of a slice from a DataFrame\n",
      "\n",
      "See the caveats in the documentation: https://pandas.pydata.org/pandas-docs/stable/user_guide/indexing.html#returning-a-view-versus-a-copy\n",
      "  return func(*args, **kwargs)\n"
     ]
    },
    {
     "data": {
      "text/html": [
       "<div>\n",
       "<style scoped>\n",
       "    .dataframe tbody tr th:only-of-type {\n",
       "        vertical-align: middle;\n",
       "    }\n",
       "\n",
       "    .dataframe tbody tr th {\n",
       "        vertical-align: top;\n",
       "    }\n",
       "\n",
       "    .dataframe thead th {\n",
       "        text-align: right;\n",
       "    }\n",
       "</style>\n",
       "<table border=\"1\" class=\"dataframe\">\n",
       "  <thead>\n",
       "    <tr style=\"text-align: right;\">\n",
       "      <th></th>\n",
       "      <th>business_id</th>\n",
       "      <th>attire</th>\n",
       "    </tr>\n",
       "  </thead>\n",
       "  <tbody>\n",
       "    <tr>\n",
       "      <th>1</th>\n",
       "      <td>MUTTqe8uqyMdBl186RmNeA</td>\n",
       "      <td>casual</td>\n",
       "    </tr>\n",
       "    <tr>\n",
       "      <th>3</th>\n",
       "      <td>QdN72BWoyFypdGJhhI5r7g</td>\n",
       "      <td>casual</td>\n",
       "    </tr>\n",
       "    <tr>\n",
       "      <th>7</th>\n",
       "      <td>3BJxm-HnvzdwD1zjmSbmyQ</td>\n",
       "      <td>casual</td>\n",
       "    </tr>\n",
       "    <tr>\n",
       "      <th>8</th>\n",
       "      <td>WYYdQDjx-DsCanlP0DpImQ</td>\n",
       "      <td>casual</td>\n",
       "    </tr>\n",
       "    <tr>\n",
       "      <th>10</th>\n",
       "      <td>bTve2mwLk5Zc01vRKqc2KQ</td>\n",
       "      <td>casual</td>\n",
       "    </tr>\n",
       "  </tbody>\n",
       "</table>\n",
       "</div>"
      ],
      "text/plain": [
       "               business_id  attire\n",
       "1   MUTTqe8uqyMdBl186RmNeA  casual\n",
       "3   QdN72BWoyFypdGJhhI5r7g  casual\n",
       "7   3BJxm-HnvzdwD1zjmSbmyQ  casual\n",
       "8   WYYdQDjx-DsCanlP0DpImQ  casual\n",
       "10  bTve2mwLk5Zc01vRKqc2KQ  casual"
      ]
     },
     "execution_count": 14,
     "metadata": {},
     "output_type": "execute_result"
    }
   ],
   "source": [
    "df_res[\"attire\"] = df_res.attributes.apply(get_attire)\n",
    "df_res.dropna(subset=['attire'], inplace=True)\n",
    "print(df_res.shape)\n",
    "df_res[[\"business_id\", \"attire\"]].head()"
   ]
  },
  {
   "cell_type": "code",
   "execution_count": 15,
   "metadata": {},
   "outputs": [
    {
     "name": "stdout",
     "output_type": "stream",
     "text": [
      "(11070,)\n"
     ]
    },
    {
     "data": {
      "text/plain": [
       "business_id\n",
       "--OS_I7dnABrXvRCCuWOGQ    4.200000\n",
       "-0M0b-XhtFagyLmsBtOe8w    3.722222\n",
       "-0PN_KFPtbnLQZEeb23XiA    3.363636\n",
       "-0TffRSXXIlBYVbb5AwfTg    4.351083\n",
       "-0eUa8TsXFFy0FCxHYmrjg    3.964286\n",
       "Name: stars, dtype: float64"
      ]
     },
     "execution_count": 15,
     "metadata": {},
     "output_type": "execute_result"
    }
   ],
   "source": [
    "df_res_rev = df_rev_copy.groupby(by=\"business_id\")[\"stars\"].mean()\n",
    "print(df_res_rev.shape)\n",
    "df_res_rev.head()\n"
   ]
  },
  {
   "cell_type": "code",
   "execution_count": 16,
   "metadata": {},
   "outputs": [
    {
     "name": "stdout",
     "output_type": "stream",
     "text": [
      "(1511, 18)\n"
     ]
    },
    {
     "name": "stderr",
     "output_type": "stream",
     "text": [
      "C:\\Users\\Giannis\\anaconda3\\lib\\site-packages\\pandas\\util\\_decorators.py:311: SettingWithCopyWarning: \n",
      "A value is trying to be set on a copy of a slice from a DataFrame\n",
      "\n",
      "See the caveats in the documentation: https://pandas.pydata.org/pandas-docs/stable/user_guide/indexing.html#returning-a-view-versus-a-copy\n",
      "  return func(*args, **kwargs)\n"
     ]
    },
    {
     "data": {
      "text/html": [
       "<div>\n",
       "<style scoped>\n",
       "    .dataframe tbody tr th:only-of-type {\n",
       "        vertical-align: middle;\n",
       "    }\n",
       "\n",
       "    .dataframe tbody tr th {\n",
       "        vertical-align: top;\n",
       "    }\n",
       "\n",
       "    .dataframe thead th {\n",
       "        text-align: right;\n",
       "    }\n",
       "</style>\n",
       "<table border=\"1\" class=\"dataframe\">\n",
       "  <thead>\n",
       "    <tr style=\"text-align: right;\">\n",
       "      <th></th>\n",
       "      <th>Unnamed: 0</th>\n",
       "      <th>business_id</th>\n",
       "      <th>name</th>\n",
       "      <th>address</th>\n",
       "      <th>city</th>\n",
       "      <th>state</th>\n",
       "      <th>postal_code</th>\n",
       "      <th>latitude</th>\n",
       "      <th>longitude</th>\n",
       "      <th>stars</th>\n",
       "      <th>review_count</th>\n",
       "      <th>is_open</th>\n",
       "      <th>attributes</th>\n",
       "      <th>categories</th>\n",
       "      <th>hours</th>\n",
       "      <th>price_range</th>\n",
       "      <th>price_type</th>\n",
       "      <th>attire</th>\n",
       "    </tr>\n",
       "  </thead>\n",
       "  <tbody>\n",
       "    <tr>\n",
       "      <th>1</th>\n",
       "      <td>1</td>\n",
       "      <td>MUTTqe8uqyMdBl186RmNeA</td>\n",
       "      <td>Tuna Bar</td>\n",
       "      <td>205 Race St</td>\n",
       "      <td>Philadelphia</td>\n",
       "      <td>PA</td>\n",
       "      <td>19106.0</td>\n",
       "      <td>39.953949</td>\n",
       "      <td>-75.143226</td>\n",
       "      <td>4.0</td>\n",
       "      <td>245</td>\n",
       "      <td>1</td>\n",
       "      <td>{'RestaurantsReservations': 'True', 'Restauran...</td>\n",
       "      <td>Sushi Bars, Restaurants, Japanese</td>\n",
       "      <td>{'Tuesday': '13:30-22:0', 'Wednesday': '13:30-...</td>\n",
       "      <td>2</td>\n",
       "      <td>Cheap</td>\n",
       "      <td>casual</td>\n",
       "    </tr>\n",
       "    <tr>\n",
       "      <th>3</th>\n",
       "      <td>3</td>\n",
       "      <td>QdN72BWoyFypdGJhhI5r7g</td>\n",
       "      <td>Bar One</td>\n",
       "      <td>767 S 9th St</td>\n",
       "      <td>Philadelphia</td>\n",
       "      <td>PA</td>\n",
       "      <td>19147.0</td>\n",
       "      <td>39.939825</td>\n",
       "      <td>-75.157447</td>\n",
       "      <td>4.0</td>\n",
       "      <td>65</td>\n",
       "      <td>0</td>\n",
       "      <td>{'Smoking': \"u'no'\", 'NoiseLevel': \"u'average'...</td>\n",
       "      <td>Cocktail Bars, Bars, Italian, Nightlife, Resta...</td>\n",
       "      <td>{'Monday': '16:0-0:0', 'Tuesday': '16:0-0:0', ...</td>\n",
       "      <td>2</td>\n",
       "      <td>Cheap</td>\n",
       "      <td>casual</td>\n",
       "    </tr>\n",
       "    <tr>\n",
       "      <th>7</th>\n",
       "      <td>10</td>\n",
       "      <td>3BJxm-HnvzdwD1zjmSbmyQ</td>\n",
       "      <td>Golden Chopstick Chinese Restaurant</td>\n",
       "      <td>1800 Spring Garden St</td>\n",
       "      <td>Philadelphia</td>\n",
       "      <td>PA</td>\n",
       "      <td>19130.0</td>\n",
       "      <td>39.963078</td>\n",
       "      <td>-75.168027</td>\n",
       "      <td>3.0</td>\n",
       "      <td>137</td>\n",
       "      <td>1</td>\n",
       "      <td>{'GoodForKids': 'True', 'RestaurantsDelivery':...</td>\n",
       "      <td>Restaurants, Chinese</td>\n",
       "      <td>{'Monday': '0:0-0:0', 'Tuesday': '11:0-22:30',...</td>\n",
       "      <td>1</td>\n",
       "      <td>Cheap</td>\n",
       "      <td>casual</td>\n",
       "    </tr>\n",
       "    <tr>\n",
       "      <th>8</th>\n",
       "      <td>13</td>\n",
       "      <td>WYYdQDjx-DsCanlP0DpImQ</td>\n",
       "      <td>J Sushi</td>\n",
       "      <td>243 S 10th St</td>\n",
       "      <td>Philadelphia</td>\n",
       "      <td>PA</td>\n",
       "      <td>19107.0</td>\n",
       "      <td>39.947033</td>\n",
       "      <td>-75.157434</td>\n",
       "      <td>4.5</td>\n",
       "      <td>72</td>\n",
       "      <td>0</td>\n",
       "      <td>{'Ambience': \"{'touristy': False, 'hipster': F...</td>\n",
       "      <td>Seafood, Restaurants, Sushi Bars, Japanese</td>\n",
       "      <td>{'Tuesday': '11:0-22:0', 'Wednesday': '11:0-22...</td>\n",
       "      <td>2</td>\n",
       "      <td>Cheap</td>\n",
       "      <td>casual</td>\n",
       "    </tr>\n",
       "    <tr>\n",
       "      <th>10</th>\n",
       "      <td>19</td>\n",
       "      <td>bTve2mwLk5Zc01vRKqc2KQ</td>\n",
       "      <td>Red Hook Coffee &amp; Tea</td>\n",
       "      <td>765 S 4th St</td>\n",
       "      <td>Philadelphia</td>\n",
       "      <td>PA</td>\n",
       "      <td>19147.0</td>\n",
       "      <td>39.938552</td>\n",
       "      <td>-75.149636</td>\n",
       "      <td>4.5</td>\n",
       "      <td>183</td>\n",
       "      <td>1</td>\n",
       "      <td>{'BikeParking': 'True', 'OutdoorSeating': 'Tru...</td>\n",
       "      <td>Restaurants, Breakfast &amp; Brunch, Vegan, Bagels...</td>\n",
       "      <td>{'Monday': '7:0-18:0', 'Tuesday': '7:0-18:0', ...</td>\n",
       "      <td>1</td>\n",
       "      <td>Cheap</td>\n",
       "      <td>casual</td>\n",
       "    </tr>\n",
       "  </tbody>\n",
       "</table>\n",
       "</div>"
      ],
      "text/plain": [
       "    Unnamed: 0             business_id                                 name  \\\n",
       "1            1  MUTTqe8uqyMdBl186RmNeA                             Tuna Bar   \n",
       "3            3  QdN72BWoyFypdGJhhI5r7g                              Bar One   \n",
       "7           10  3BJxm-HnvzdwD1zjmSbmyQ  Golden Chopstick Chinese Restaurant   \n",
       "8           13  WYYdQDjx-DsCanlP0DpImQ                              J Sushi   \n",
       "10          19  bTve2mwLk5Zc01vRKqc2KQ                Red Hook Coffee & Tea   \n",
       "\n",
       "                  address          city state  postal_code   latitude  \\\n",
       "1             205 Race St  Philadelphia    PA      19106.0  39.953949   \n",
       "3            767 S 9th St  Philadelphia    PA      19147.0  39.939825   \n",
       "7   1800 Spring Garden St  Philadelphia    PA      19130.0  39.963078   \n",
       "8           243 S 10th St  Philadelphia    PA      19107.0  39.947033   \n",
       "10           765 S 4th St  Philadelphia    PA      19147.0  39.938552   \n",
       "\n",
       "    longitude  stars  review_count  is_open  \\\n",
       "1  -75.143226    4.0           245        1   \n",
       "3  -75.157447    4.0            65        0   \n",
       "7  -75.168027    3.0           137        1   \n",
       "8  -75.157434    4.5            72        0   \n",
       "10 -75.149636    4.5           183        1   \n",
       "\n",
       "                                           attributes  \\\n",
       "1   {'RestaurantsReservations': 'True', 'Restauran...   \n",
       "3   {'Smoking': \"u'no'\", 'NoiseLevel': \"u'average'...   \n",
       "7   {'GoodForKids': 'True', 'RestaurantsDelivery':...   \n",
       "8   {'Ambience': \"{'touristy': False, 'hipster': F...   \n",
       "10  {'BikeParking': 'True', 'OutdoorSeating': 'Tru...   \n",
       "\n",
       "                                           categories  \\\n",
       "1                   Sushi Bars, Restaurants, Japanese   \n",
       "3   Cocktail Bars, Bars, Italian, Nightlife, Resta...   \n",
       "7                                Restaurants, Chinese   \n",
       "8          Seafood, Restaurants, Sushi Bars, Japanese   \n",
       "10  Restaurants, Breakfast & Brunch, Vegan, Bagels...   \n",
       "\n",
       "                                                hours price_range price_type  \\\n",
       "1   {'Tuesday': '13:30-22:0', 'Wednesday': '13:30-...           2      Cheap   \n",
       "3   {'Monday': '16:0-0:0', 'Tuesday': '16:0-0:0', ...           2      Cheap   \n",
       "7   {'Monday': '0:0-0:0', 'Tuesday': '11:0-22:30',...           1      Cheap   \n",
       "8   {'Tuesday': '11:0-22:0', 'Wednesday': '11:0-22...           2      Cheap   \n",
       "10  {'Monday': '7:0-18:0', 'Tuesday': '7:0-18:0', ...           1      Cheap   \n",
       "\n",
       "    attire  \n",
       "1   casual  \n",
       "3   casual  \n",
       "7   casual  \n",
       "8   casual  \n",
       "10  casual  "
      ]
     },
     "execution_count": 16,
     "metadata": {},
     "output_type": "execute_result"
    }
   ],
   "source": [
    "df_rev = df_rev.merge(df_res_rev, on=\"business_id\")\n",
    "df_res.dropna(subset=['stars'], inplace=True)\n",
    "print(df_res.shape)\n",
    "df_res.head()"
   ]
  },
  {
   "cell_type": "code",
   "execution_count": 17,
   "metadata": {},
   "outputs": [
    {
     "name": "stdout",
     "output_type": "stream",
     "text": [
      "Number of restaurants that require formal attire: 42\n",
      "Number of restaurants that require casual attire: 1469\n"
     ]
    },
    {
     "data": {
      "text/plain": [
       "<AxesSubplot:xlabel='attire', ylabel='stars'>"
      ]
     },
     "execution_count": 17,
     "metadata": {},
     "output_type": "execute_result"
    },
    {
     "data": {
      "image/png": "[encoded data removed]",
      "text/plain": [
       "<Figure size 576x576 with 1 Axes>"
      ]
     },
     "metadata": {
      "needs_background": "light"
     },
     "output_type": "display_data"
    }
   ],
   "source": [
    "print(\"Number of restaurants that require formal attire:\", len(df_res[df_res.attire == \"formal\"]))\n",
    "print(\"Number of restaurants that require casual attire:\", len(df_res[df_res.attire == \"casual\"]))\n",
    "plt.figure(figsize=(8, 8))\n",
    "sns.pointplot(data=df_res, x = \"attire\", y = \"stars\", ci= 95, join=False)"
   ]
  },
  {
   "cell_type": "markdown",
   "metadata": {},
   "source": [
    "Μπορουμε να παρατηρησουμε πως τα καταστηματα που απαιτουν επισημη ενδημασια εχουν περισοτερα αστερια απο αυτα που απαιτου καθημερινη ενδημασια. Ομως, εχουμε μονο 42 formal εστιατορια, για αυτο και το διαστημα εμπιστοσυνης τους εχει αρκετα μεγαλο range, ενω των casual εχει μικροτερο range. Εχουμε και overlap μεταξυ των error bars και τα formal ετσιατορια θα μπορουσαν να εχουν λιγοτερα αστερια απο τα casual εστιατορια σε μεγαλυτερο δειγμα. "
   ]
  },
  {
   "cell_type": "code",
   "execution_count": 18,
   "metadata": {},
   "outputs": [
    {
     "data": {
      "text/plain": [
       "Ttest_indResult(statistic=-1.1464018695638065, pvalue=0.25181066000778646)"
      ]
     },
     "execution_count": 18,
     "metadata": {},
     "output_type": "execute_result"
    }
   ],
   "source": [
    "casual_stars = df_res[df_res['attire'] == 'casual']['stars']\n",
    "formal_stars = df_res[df_res['attire'] == 'formal']['stars']\n",
    "\n",
    "stats.ttest_ind(casual_stars, formal_stars)"
   ]
  },
  {
   "cell_type": "markdown",
   "metadata": {},
   "source": [
    "To p-value δεν ειναι μικροτερο του 0.05 και αυτο δειχνει οτι η παρατησρηση μας δεν ειναι στατιστικα σημαντικη αφου τα αποτελεσματα θα μπορουσαν να δημιουργηθουν και τυχαια απο ανεξαρτητες μεταβλητες."
   ]
  }
 ],
 "metadata": {
  "kernelspec": {
   "display_name": "Python 3 (ipykernel)",
   "language": "python",
   "name": "python3"
  },
  "language_info": {
   "codemirror_mode": {
    "name": "ipython",
    "version": 3
   },
   "file_extension": ".py",
   "mimetype": "text/x-python",
   "name": "python",
   "nbconvert_exporter": "python",
   "pygments_lexer": "ipython3",
   "version": "3.9.7 (default, Sep 16 2021, 16:59:28) [MSC v.1916 64 bit (AMD64)]"
  },
  "vscode": {
   "interpreter": {
    "hash": "5bf5137ea94996cf045b4e01cc05ea6528fbc1ec529e737db76b4d8a5ada53af"
   }
  }
 },
 "nbformat": 4,
 "nbformat_minor": 2
}
