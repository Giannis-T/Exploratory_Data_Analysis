{
 "cells": [
  {
   "cell_type": "markdown",
   "metadata": {},
   "source": [
    "# Ερωτηση 3 | 3.Ε"
   ]
  },
  {
   "cell_type": "code",
   "execution_count": 1,
   "metadata": {},
   "outputs": [],
   "source": [
    "import pandas as pd\n",
    "import scipy as sp \n",
    "from scipy import stats"
   ]
  },
  {
   "cell_type": "code",
   "execution_count": 2,
   "metadata": {},
   "outputs": [
    {
     "name": "stdout",
     "output_type": "stream",
     "text": [
      "Restaurants: (4829, 16)\n"
     ]
    }
   ],
   "source": [
    "df_res =  pd.read_csv('restaurants.csv') # Restaurants Dataframe\n",
    "print(\"Restaurants:\", df_res.shape)"
   ]
  },
  {
   "cell_type": "code",
   "execution_count": 3,
   "metadata": {},
   "outputs": [],
   "source": [
    "def is_good_for_dates(attr):\n",
    "    try:\n",
    "        ambience = eval(eval(attr)[\"Ambience\"])\n",
    "        try:\n",
    "            if ambience[\"intimate\"] or ambience[\"romantic\"]:\n",
    "                return True\n",
    "            else:\n",
    "                return False\n",
    "        except:\n",
    "            return None \n",
    "    except:\n",
    "        return None"
   ]
  },
  {
   "cell_type": "code",
   "execution_count": 4,
   "metadata": {},
   "outputs": [],
   "source": [
    "def is_classy(attr):\n",
    "    try:\n",
    "        ambience = eval(eval(attr)[\"Ambience\"])\n",
    "        try:\n",
    "            if ambience[\"classy\"] or ambience[\"upscale\"]:\n",
    "                return True\n",
    "            else:\n",
    "                return False\n",
    "        except:\n",
    "            return None \n",
    "    except:\n",
    "        return None"
   ]
  },
  {
   "cell_type": "code",
   "execution_count": 5,
   "metadata": {},
   "outputs": [
    {
     "name": "stdout",
     "output_type": "stream",
     "text": [
      "(3894, 18)\n"
     ]
    },
    {
     "data": {
      "text/html": [
       "<div>\n",
       "<style scoped>\n",
       "    .dataframe tbody tr th:only-of-type {\n",
       "        vertical-align: middle;\n",
       "    }\n",
       "\n",
       "    .dataframe tbody tr th {\n",
       "        vertical-align: top;\n",
       "    }\n",
       "\n",
       "    .dataframe thead th {\n",
       "        text-align: right;\n",
       "    }\n",
       "</style>\n",
       "<table border=\"1\" class=\"dataframe\">\n",
       "  <thead>\n",
       "    <tr style=\"text-align: right;\">\n",
       "      <th></th>\n",
       "      <th>Unnamed: 0</th>\n",
       "      <th>Unnamed: 0.1</th>\n",
       "      <th>business_id</th>\n",
       "      <th>name</th>\n",
       "      <th>address</th>\n",
       "      <th>city</th>\n",
       "      <th>state</th>\n",
       "      <th>postal_code</th>\n",
       "      <th>latitude</th>\n",
       "      <th>longitude</th>\n",
       "      <th>stars</th>\n",
       "      <th>review_count</th>\n",
       "      <th>is_open</th>\n",
       "      <th>attributes</th>\n",
       "      <th>categories</th>\n",
       "      <th>hours</th>\n",
       "      <th>is_good_for_dates</th>\n",
       "      <th>is_classy</th>\n",
       "    </tr>\n",
       "  </thead>\n",
       "  <tbody>\n",
       "    <tr>\n",
       "      <th>1</th>\n",
       "      <td>1</td>\n",
       "      <td>1</td>\n",
       "      <td>MUTTqe8uqyMdBl186RmNeA</td>\n",
       "      <td>Tuna Bar</td>\n",
       "      <td>205 Race St</td>\n",
       "      <td>Philadelphia</td>\n",
       "      <td>PA</td>\n",
       "      <td>19106.0</td>\n",
       "      <td>39.953949</td>\n",
       "      <td>-75.143226</td>\n",
       "      <td>4.0</td>\n",
       "      <td>245</td>\n",
       "      <td>1</td>\n",
       "      <td>{'RestaurantsReservations': 'True', 'Restauran...</td>\n",
       "      <td>Sushi Bars, Restaurants, Japanese</td>\n",
       "      <td>{'Tuesday': '13:30-22:0', 'Wednesday': '13:30-...</td>\n",
       "      <td>False</td>\n",
       "      <td>True</td>\n",
       "    </tr>\n",
       "    <tr>\n",
       "      <th>2</th>\n",
       "      <td>2</td>\n",
       "      <td>2</td>\n",
       "      <td>ROeacJQwBeh05Rqg7F6TCg</td>\n",
       "      <td>BAP</td>\n",
       "      <td>1224 South St</td>\n",
       "      <td>Philadelphia</td>\n",
       "      <td>PA</td>\n",
       "      <td>19147.0</td>\n",
       "      <td>39.943223</td>\n",
       "      <td>-75.162568</td>\n",
       "      <td>4.5</td>\n",
       "      <td>205</td>\n",
       "      <td>1</td>\n",
       "      <td>{'NoiseLevel': \"u'quiet'\", 'GoodForMeal': \"{'d...</td>\n",
       "      <td>Korean, Restaurants</td>\n",
       "      <td>{'Monday': '11:30-20:30', 'Tuesday': '11:30-20...</td>\n",
       "      <td>False</td>\n",
       "      <td>False</td>\n",
       "    </tr>\n",
       "    <tr>\n",
       "      <th>3</th>\n",
       "      <td>3</td>\n",
       "      <td>3</td>\n",
       "      <td>QdN72BWoyFypdGJhhI5r7g</td>\n",
       "      <td>Bar One</td>\n",
       "      <td>767 S 9th St</td>\n",
       "      <td>Philadelphia</td>\n",
       "      <td>PA</td>\n",
       "      <td>19147.0</td>\n",
       "      <td>39.939825</td>\n",
       "      <td>-75.157447</td>\n",
       "      <td>4.0</td>\n",
       "      <td>65</td>\n",
       "      <td>0</td>\n",
       "      <td>{'Smoking': \"u'no'\", 'NoiseLevel': \"u'average'...</td>\n",
       "      <td>Cocktail Bars, Bars, Italian, Nightlife, Resta...</td>\n",
       "      <td>{'Monday': '16:0-0:0', 'Tuesday': '16:0-0:0', ...</td>\n",
       "      <td>False</td>\n",
       "      <td>False</td>\n",
       "    </tr>\n",
       "    <tr>\n",
       "      <th>4</th>\n",
       "      <td>4</td>\n",
       "      <td>4</td>\n",
       "      <td>Mjboz24M9NlBeiOJKLEd_Q</td>\n",
       "      <td>DeSandro on Main</td>\n",
       "      <td>4105 Main St</td>\n",
       "      <td>Philadelphia</td>\n",
       "      <td>PA</td>\n",
       "      <td>19127.0</td>\n",
       "      <td>40.022466</td>\n",
       "      <td>-75.218314</td>\n",
       "      <td>3.0</td>\n",
       "      <td>41</td>\n",
       "      <td>0</td>\n",
       "      <td>{'RestaurantsReservations': 'False', 'Caters':...</td>\n",
       "      <td>Pizza, Restaurants, Salad, Soup</td>\n",
       "      <td>{'Tuesday': '17:0-21:30', 'Wednesday': '17:0-1...</td>\n",
       "      <td>False</td>\n",
       "      <td>False</td>\n",
       "    </tr>\n",
       "    <tr>\n",
       "      <th>5</th>\n",
       "      <td>5</td>\n",
       "      <td>5</td>\n",
       "      <td>aPNXGTDkf-4bjhyMBQxqpQ</td>\n",
       "      <td>Craft Hall</td>\n",
       "      <td>901 N Delaware Ave</td>\n",
       "      <td>Philadelphia</td>\n",
       "      <td>PA</td>\n",
       "      <td>19123.0</td>\n",
       "      <td>39.962582</td>\n",
       "      <td>-75.135657</td>\n",
       "      <td>3.5</td>\n",
       "      <td>65</td>\n",
       "      <td>1</td>\n",
       "      <td>{'OutdoorSeating': 'True', 'RestaurantsPriceRa...</td>\n",
       "      <td>Eatertainment, Arts &amp; Entertainment, Brewpubs,...</td>\n",
       "      <td>{'Monday': '0:0-0:0', 'Wednesday': '16:0-22:0'...</td>\n",
       "      <td>False</td>\n",
       "      <td>True</td>\n",
       "    </tr>\n",
       "  </tbody>\n",
       "</table>\n",
       "</div>"
      ],
      "text/plain": [
       "   Unnamed: 0  Unnamed: 0.1             business_id              name  \\\n",
       "1           1             1  MUTTqe8uqyMdBl186RmNeA          Tuna Bar   \n",
       "2           2             2  ROeacJQwBeh05Rqg7F6TCg               BAP   \n",
       "3           3             3  QdN72BWoyFypdGJhhI5r7g           Bar One   \n",
       "4           4             4  Mjboz24M9NlBeiOJKLEd_Q  DeSandro on Main   \n",
       "5           5             5  aPNXGTDkf-4bjhyMBQxqpQ        Craft Hall   \n",
       "\n",
       "              address          city state  postal_code   latitude  longitude  \\\n",
       "1         205 Race St  Philadelphia    PA      19106.0  39.953949 -75.143226   \n",
       "2       1224 South St  Philadelphia    PA      19147.0  39.943223 -75.162568   \n",
       "3        767 S 9th St  Philadelphia    PA      19147.0  39.939825 -75.157447   \n",
       "4        4105 Main St  Philadelphia    PA      19127.0  40.022466 -75.218314   \n",
       "5  901 N Delaware Ave  Philadelphia    PA      19123.0  39.962582 -75.135657   \n",
       "\n",
       "   stars  review_count  is_open  \\\n",
       "1    4.0           245        1   \n",
       "2    4.5           205        1   \n",
       "3    4.0            65        0   \n",
       "4    3.0            41        0   \n",
       "5    3.5            65        1   \n",
       "\n",
       "                                          attributes  \\\n",
       "1  {'RestaurantsReservations': 'True', 'Restauran...   \n",
       "2  {'NoiseLevel': \"u'quiet'\", 'GoodForMeal': \"{'d...   \n",
       "3  {'Smoking': \"u'no'\", 'NoiseLevel': \"u'average'...   \n",
       "4  {'RestaurantsReservations': 'False', 'Caters':...   \n",
       "5  {'OutdoorSeating': 'True', 'RestaurantsPriceRa...   \n",
       "\n",
       "                                          categories  \\\n",
       "1                  Sushi Bars, Restaurants, Japanese   \n",
       "2                                Korean, Restaurants   \n",
       "3  Cocktail Bars, Bars, Italian, Nightlife, Resta...   \n",
       "4                    Pizza, Restaurants, Salad, Soup   \n",
       "5  Eatertainment, Arts & Entertainment, Brewpubs,...   \n",
       "\n",
       "                                               hours is_good_for_dates  \\\n",
       "1  {'Tuesday': '13:30-22:0', 'Wednesday': '13:30-...             False   \n",
       "2  {'Monday': '11:30-20:30', 'Tuesday': '11:30-20...             False   \n",
       "3  {'Monday': '16:0-0:0', 'Tuesday': '16:0-0:0', ...             False   \n",
       "4  {'Tuesday': '17:0-21:30', 'Wednesday': '17:0-1...             False   \n",
       "5  {'Monday': '0:0-0:0', 'Wednesday': '16:0-22:0'...             False   \n",
       "\n",
       "  is_classy  \n",
       "1      True  \n",
       "2     False  \n",
       "3     False  \n",
       "4     False  \n",
       "5      True  "
      ]
     },
     "execution_count": 5,
     "metadata": {},
     "output_type": "execute_result"
    }
   ],
   "source": [
    "df_res[\"is_good_for_dates\"] = df_res.attributes.apply(is_good_for_dates)    # There is probably a way to set both is_classy and is_good_for_dates in the same\n",
    "df_res[\"is_classy\"] = df_res.attributes.apply(is_classy)                    # function, but for clearity perpuses, I split them in different functions.                        \n",
    "df_res.dropna(subset=['is_good_for_dates'], inplace=True)\n",
    "df_res.dropna(subset=['is_classy'], inplace=True)\n",
    "print(df_res.shape)\n",
    "df_res.head()"
   ]
  },
  {
   "cell_type": "code",
   "execution_count": 6,
   "metadata": {},
   "outputs": [
    {
     "name": "stdout",
     "output_type": "stream",
     "text": [
      "Contegency table of our data:\n",
      " is_classy          False  True\n",
      "is_good_for_dates             \n",
      "False               3007   684\n",
      "True                  98   105\n",
      "\n",
      "Expected Contegency table, if the variables were independent:\n",
      " [[2943.13174114  747.86825886]\n",
      " [ 161.86825886   41.13174114]]\n",
      "\n",
      "p-value:  6.2335254379176905e-30\n"
     ]
    }
   ],
   "source": [
    "contegency_table = pd.crosstab(df_res.is_good_for_dates, df_res.is_classy)\n",
    "print(\"Contegency table of our data:\\n\", contegency_table)\n",
    "stat, p, dof, expected = stats.chi2_contingency(contegency_table)\n",
    "print(\"\\nExpected Contegency table, if the variables were independent:\\n\", expected)\n",
    "print(\"\\np-value: \", p)\n"
   ]
  },
  {
   "cell_type": "markdown",
   "metadata": {},
   "source": [
    "Μπορούμε να δούμε πως το p-value είναι πολύ μικρότερο από το a = 0.05, αρά είμαστε πολύ σίγουροι ότι τα αποτελέσματα δεν είναι τυχαία και υπάρχει συσχέτιση μεταξύ των καταστημάτων που είναι κυριλέ και καλά για ραντεβού."
   ]
  }
 ],
 "metadata": {
  "kernelspec": {
   "display_name": "Python 3 (ipykernel)",
   "language": "python",
   "name": "python3"
  },
  "language_info": {
   "codemirror_mode": {
    "name": "ipython",
    "version": 3
   },
   "file_extension": ".py",
   "mimetype": "text/x-python",
   "name": "python",
   "nbconvert_exporter": "python",
   "pygments_lexer": "ipython3",
   "version": "3.9.7"
  },
  "vscode": {
   "interpreter": {
    "hash": "5bf5137ea94996cf045b4e01cc05ea6528fbc1ec529e737db76b4d8a5ada53af"
   }
  }
 },
 "nbformat": 4,
 "nbformat_minor": 2
}
