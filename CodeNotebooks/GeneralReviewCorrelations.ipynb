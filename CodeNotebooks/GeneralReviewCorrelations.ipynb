{
 "cells": [
  {
   "cell_type": "markdown",
   "metadata": {},
   "source": [
    "# Ερωτηση 3 | 3.Γ"
   ]
  },
  {
   "cell_type": "code",
   "execution_count": 1,
   "metadata": {},
   "outputs": [],
   "source": [
    "import pandas as pd\n",
    "import numpy as np\n",
    "from matplotlib import pyplot as plt\n",
    "import seaborn as sns\n",
    "import scipy as sp \n",
    "from scipy import stats\n",
    "from math import floor\n",
    "%matplotlib inline"
   ]
  },
  {
   "cell_type": "code",
   "execution_count": 2,
   "metadata": {},
   "outputs": [],
   "source": [
    "df_bus = pd.read_csv(\"business.csv\") # Businesses Dataframe\n",
    "df_red = pd.read_csv('RedfinPhila.tsv', sep='\\t')"
   ]
  },
  {
   "cell_type": "code",
   "execution_count": 3,
   "metadata": {},
   "outputs": [
    {
     "name": "stdout",
     "output_type": "stream",
     "text": [
      "(45244, 2)\n"
     ]
    },
    {
     "data": {
      "text/html": [
       "<div>\n",
       "<style scoped>\n",
       "    .dataframe tbody tr th:only-of-type {\n",
       "        vertical-align: middle;\n",
       "    }\n",
       "\n",
       "    .dataframe tbody tr th {\n",
       "        vertical-align: top;\n",
       "    }\n",
       "\n",
       "    .dataframe thead th {\n",
       "        text-align: right;\n",
       "    }\n",
       "</style>\n",
       "<table border=\"1\" class=\"dataframe\">\n",
       "  <thead>\n",
       "    <tr style=\"text-align: right;\">\n",
       "      <th></th>\n",
       "      <th>median_sale_price</th>\n",
       "      <th>postal_code</th>\n",
       "    </tr>\n",
       "  </thead>\n",
       "  <tbody>\n",
       "    <tr>\n",
       "      <th>0</th>\n",
       "      <td>252438.0</td>\n",
       "      <td>19070</td>\n",
       "    </tr>\n",
       "    <tr>\n",
       "      <th>1</th>\n",
       "      <td>580000.0</td>\n",
       "      <td>19078</td>\n",
       "    </tr>\n",
       "    <tr>\n",
       "      <th>2</th>\n",
       "      <td>219900.0</td>\n",
       "      <td>19043</td>\n",
       "    </tr>\n",
       "    <tr>\n",
       "      <th>3</th>\n",
       "      <td>55125.0</td>\n",
       "      <td>19124</td>\n",
       "    </tr>\n",
       "    <tr>\n",
       "      <th>4</th>\n",
       "      <td>69000.0</td>\n",
       "      <td>19124</td>\n",
       "    </tr>\n",
       "  </tbody>\n",
       "</table>\n",
       "</div>"
      ],
      "text/plain": [
       "   median_sale_price postal_code\n",
       "0           252438.0       19070\n",
       "1           580000.0       19078\n",
       "2           219900.0       19043\n",
       "3            55125.0       19124\n",
       "4            69000.0       19124"
      ]
     },
     "execution_count": 3,
     "metadata": {},
     "output_type": "execute_result"
    }
   ],
   "source": [
    "df_red = df_red[[\"median_sale_price\", \"region\"]]\n",
    "df_red[\"region\"] = df_red.region.apply(lambda s: s.strip(\"Zip Code: \"))\n",
    "df_red.rename(columns = {'region':'postal_code'}, inplace = True)\n",
    "\n",
    "print(df_red.shape)\n",
    "df_red.head()"
   ]
  },
  {
   "cell_type": "code",
   "execution_count": 4,
   "metadata": {},
   "outputs": [],
   "source": [
    "df_bus.rename(columns = {'stars':'mean_star_rating'}, inplace = True)"
   ]
  },
  {
   "cell_type": "markdown",
   "metadata": {},
   "source": [
    "We keep the most accurate mean_star_rating, star_x"
   ]
  },
  {
   "cell_type": "code",
   "execution_count": 5,
   "metadata": {},
   "outputs": [
    {
     "data": {
      "text/plain": [
       "(11070, 3)"
      ]
     },
     "execution_count": 5,
     "metadata": {},
     "output_type": "execute_result"
    }
   ],
   "source": [
    "\n",
    "df_bus = df_bus[[\"business_id\", \"mean_star_rating\", \"postal_code\"]]\n",
    "df_bus.shape"
   ]
  },
  {
   "cell_type": "code",
   "execution_count": 6,
   "metadata": {},
   "outputs": [],
   "source": [
    "df_bus = df_bus.fillna(0)"
   ]
  },
  {
   "cell_type": "code",
   "execution_count": 7,
   "metadata": {},
   "outputs": [
    {
     "data": {
      "text/html": [
       "<div>\n",
       "<style scoped>\n",
       "    .dataframe tbody tr th:only-of-type {\n",
       "        vertical-align: middle;\n",
       "    }\n",
       "\n",
       "    .dataframe tbody tr th {\n",
       "        vertical-align: top;\n",
       "    }\n",
       "\n",
       "    .dataframe thead th {\n",
       "        text-align: right;\n",
       "    }\n",
       "</style>\n",
       "<table border=\"1\" class=\"dataframe\">\n",
       "  <thead>\n",
       "    <tr style=\"text-align: right;\">\n",
       "      <th></th>\n",
       "      <th>business_id</th>\n",
       "      <th>mean_star_rating</th>\n",
       "      <th>postal_code</th>\n",
       "    </tr>\n",
       "  </thead>\n",
       "  <tbody>\n",
       "    <tr>\n",
       "      <th>0</th>\n",
       "      <td>MTSW4McQd7CbVtyjqoe9mw</td>\n",
       "      <td>4.0</td>\n",
       "      <td>19107</td>\n",
       "    </tr>\n",
       "    <tr>\n",
       "      <th>1</th>\n",
       "      <td>MUTTqe8uqyMdBl186RmNeA</td>\n",
       "      <td>4.0</td>\n",
       "      <td>19106</td>\n",
       "    </tr>\n",
       "    <tr>\n",
       "      <th>2</th>\n",
       "      <td>ROeacJQwBeh05Rqg7F6TCg</td>\n",
       "      <td>4.5</td>\n",
       "      <td>19147</td>\n",
       "    </tr>\n",
       "    <tr>\n",
       "      <th>3</th>\n",
       "      <td>QdN72BWoyFypdGJhhI5r7g</td>\n",
       "      <td>4.0</td>\n",
       "      <td>19147</td>\n",
       "    </tr>\n",
       "    <tr>\n",
       "      <th>4</th>\n",
       "      <td>Mjboz24M9NlBeiOJKLEd_Q</td>\n",
       "      <td>3.0</td>\n",
       "      <td>19127</td>\n",
       "    </tr>\n",
       "  </tbody>\n",
       "</table>\n",
       "</div>"
      ],
      "text/plain": [
       "              business_id  mean_star_rating postal_code\n",
       "0  MTSW4McQd7CbVtyjqoe9mw               4.0       19107\n",
       "1  MUTTqe8uqyMdBl186RmNeA               4.0       19106\n",
       "2  ROeacJQwBeh05Rqg7F6TCg               4.5       19147\n",
       "3  QdN72BWoyFypdGJhhI5r7g               4.0       19147\n",
       "4  Mjboz24M9NlBeiOJKLEd_Q               3.0       19127"
      ]
     },
     "execution_count": 7,
     "metadata": {},
     "output_type": "execute_result"
    }
   ],
   "source": [
    "df_bus[\"postal_code\"] = df_bus[\"postal_code\"].astype(int)\n",
    "df_bus[\"postal_code\"] = df_bus[\"postal_code\"].astype(str)\n",
    "df_bus.head()"
   ]
  },
  {
   "cell_type": "code",
   "execution_count": 8,
   "metadata": {},
   "outputs": [
    {
     "name": "stdout",
     "output_type": "stream",
     "text": [
      "(5562530, 4)\n"
     ]
    },
    {
     "data": {
      "text/html": [
       "<div>\n",
       "<style scoped>\n",
       "    .dataframe tbody tr th:only-of-type {\n",
       "        vertical-align: middle;\n",
       "    }\n",
       "\n",
       "    .dataframe tbody tr th {\n",
       "        vertical-align: top;\n",
       "    }\n",
       "\n",
       "    .dataframe thead th {\n",
       "        text-align: right;\n",
       "    }\n",
       "</style>\n",
       "<table border=\"1\" class=\"dataframe\">\n",
       "  <thead>\n",
       "    <tr style=\"text-align: right;\">\n",
       "      <th></th>\n",
       "      <th>median_sale_price</th>\n",
       "      <th>postal_code</th>\n",
       "      <th>business_id</th>\n",
       "      <th>mean_star_rating</th>\n",
       "    </tr>\n",
       "  </thead>\n",
       "  <tbody>\n",
       "    <tr>\n",
       "      <th>0</th>\n",
       "      <td>55125.0</td>\n",
       "      <td>19124</td>\n",
       "      <td>O1oZpbZNDMH_gz8DhsZCdA</td>\n",
       "      <td>1.5</td>\n",
       "    </tr>\n",
       "    <tr>\n",
       "      <th>1</th>\n",
       "      <td>55125.0</td>\n",
       "      <td>19124</td>\n",
       "      <td>tUl_Lq8dM3T-NnM-u3szSg</td>\n",
       "      <td>5.0</td>\n",
       "    </tr>\n",
       "    <tr>\n",
       "      <th>2</th>\n",
       "      <td>55125.0</td>\n",
       "      <td>19124</td>\n",
       "      <td>yFqq66GxRjnhZXPgjA6hnw</td>\n",
       "      <td>2.0</td>\n",
       "    </tr>\n",
       "    <tr>\n",
       "      <th>3</th>\n",
       "      <td>55125.0</td>\n",
       "      <td>19124</td>\n",
       "      <td>tVxL-Ygzwp8NMuxwvNmWRA</td>\n",
       "      <td>4.0</td>\n",
       "    </tr>\n",
       "    <tr>\n",
       "      <th>4</th>\n",
       "      <td>55125.0</td>\n",
       "      <td>19124</td>\n",
       "      <td>zUJMvjK6aBeQtVCowZ85-w</td>\n",
       "      <td>3.5</td>\n",
       "    </tr>\n",
       "  </tbody>\n",
       "</table>\n",
       "</div>"
      ],
      "text/plain": [
       "   median_sale_price postal_code             business_id  mean_star_rating\n",
       "0            55125.0       19124  O1oZpbZNDMH_gz8DhsZCdA               1.5\n",
       "1            55125.0       19124  tUl_Lq8dM3T-NnM-u3szSg               5.0\n",
       "2            55125.0       19124  yFqq66GxRjnhZXPgjA6hnw               2.0\n",
       "3            55125.0       19124  tVxL-Ygzwp8NMuxwvNmWRA               4.0\n",
       "4            55125.0       19124  zUJMvjK6aBeQtVCowZ85-w               3.5"
      ]
     },
     "execution_count": 8,
     "metadata": {},
     "output_type": "execute_result"
    }
   ],
   "source": [
    "df_red_bus = df_red.merge(df_bus, on=\"postal_code\")\n",
    "print(df_red_bus.shape)\n",
    "df_red_bus.head()"
   ]
  },
  {
   "cell_type": "code",
   "execution_count": 9,
   "metadata": {},
   "outputs": [
    {
     "name": "stdout",
     "output_type": "stream",
     "text": [
      "(52,)\n"
     ]
    },
    {
     "data": {
      "text/plain": [
       "postal_code\n",
       "19003       586\n",
       "19010       556\n",
       "19014       544\n",
       "19023       508\n",
       "19102    151455\n",
       "Name: business_id, dtype: int64"
      ]
     },
     "execution_count": 9,
     "metadata": {},
     "output_type": "execute_result"
    }
   ],
   "source": [
    "businesses_counts = df_red_bus.groupby(by=\"postal_code\")[\"business_id\"].count()\n",
    "print(businesses_counts.shape)\n",
    "businesses_counts.head()"
   ]
  },
  {
   "cell_type": "code",
   "execution_count": 10,
   "metadata": {},
   "outputs": [
    {
     "name": "stdout",
     "output_type": "stream",
     "text": [
      "(52,)\n"
     ]
    },
    {
     "data": {
      "text/plain": [
       "postal_code\n",
       "19003    4.000000\n",
       "19010    4.500000\n",
       "19014    3.500000\n",
       "19023    2.000000\n",
       "19102    3.677677\n",
       "Name: mean_star_rating, dtype: float64"
      ]
     },
     "execution_count": 10,
     "metadata": {},
     "output_type": "execute_result"
    }
   ],
   "source": [
    "pc_mean_star_rating = df_red_bus.groupby(by=\"postal_code\")[\"mean_star_rating\"].mean()\n",
    "print(pc_mean_star_rating.shape)\n",
    "pc_mean_star_rating.head()"
   ]
  },
  {
   "cell_type": "code",
   "execution_count": 11,
   "metadata": {},
   "outputs": [
    {
     "name": "stdout",
     "output_type": "stream",
     "text": [
      "(52, 2)\n"
     ]
    },
    {
     "data": {
      "text/html": [
       "<div>\n",
       "<style scoped>\n",
       "    .dataframe tbody tr th:only-of-type {\n",
       "        vertical-align: middle;\n",
       "    }\n",
       "\n",
       "    .dataframe tbody tr th {\n",
       "        vertical-align: top;\n",
       "    }\n",
       "\n",
       "    .dataframe thead th {\n",
       "        text-align: right;\n",
       "    }\n",
       "</style>\n",
       "<table border=\"1\" class=\"dataframe\">\n",
       "  <thead>\n",
       "    <tr style=\"text-align: right;\">\n",
       "      <th></th>\n",
       "      <th>businesses_count</th>\n",
       "      <th>mean_star_ratings</th>\n",
       "    </tr>\n",
       "    <tr>\n",
       "      <th>postal_code</th>\n",
       "      <th></th>\n",
       "      <th></th>\n",
       "    </tr>\n",
       "  </thead>\n",
       "  <tbody>\n",
       "    <tr>\n",
       "      <th>19003</th>\n",
       "      <td>586</td>\n",
       "      <td>4.000000</td>\n",
       "    </tr>\n",
       "    <tr>\n",
       "      <th>19010</th>\n",
       "      <td>556</td>\n",
       "      <td>4.500000</td>\n",
       "    </tr>\n",
       "    <tr>\n",
       "      <th>19014</th>\n",
       "      <td>544</td>\n",
       "      <td>3.500000</td>\n",
       "    </tr>\n",
       "    <tr>\n",
       "      <th>19023</th>\n",
       "      <td>508</td>\n",
       "      <td>2.000000</td>\n",
       "    </tr>\n",
       "    <tr>\n",
       "      <th>19102</th>\n",
       "      <td>151455</td>\n",
       "      <td>3.677677</td>\n",
       "    </tr>\n",
       "  </tbody>\n",
       "</table>\n",
       "</div>"
      ],
      "text/plain": [
       "             businesses_count  mean_star_ratings\n",
       "postal_code                                     \n",
       "19003                     586           4.000000\n",
       "19010                     556           4.500000\n",
       "19014                     544           3.500000\n",
       "19023                     508           2.000000\n",
       "19102                  151455           3.677677"
      ]
     },
     "execution_count": 11,
     "metadata": {},
     "output_type": "execute_result"
    }
   ],
   "source": [
    "pc_count_rating = pd.DataFrame()\n",
    "pc_count_rating[\"businesses_count\"] = businesses_counts\n",
    "pc_count_rating[\"mean_star_ratings\"] = pc_mean_star_rating\n",
    "print(pc_count_rating.shape)\n",
    "pc_count_rating.head()"
   ]
  },
  {
   "cell_type": "code",
   "execution_count": 12,
   "metadata": {},
   "outputs": [
    {
     "name": "stdout",
     "output_type": "stream",
     "text": [
      "(45244, 1)\n"
     ]
    },
    {
     "data": {
      "text/html": [
       "<div>\n",
       "<style scoped>\n",
       "    .dataframe tbody tr th:only-of-type {\n",
       "        vertical-align: middle;\n",
       "    }\n",
       "\n",
       "    .dataframe tbody tr th {\n",
       "        vertical-align: top;\n",
       "    }\n",
       "\n",
       "    .dataframe thead th {\n",
       "        text-align: right;\n",
       "    }\n",
       "</style>\n",
       "<table border=\"1\" class=\"dataframe\">\n",
       "  <thead>\n",
       "    <tr style=\"text-align: right;\">\n",
       "      <th></th>\n",
       "      <th>median_sale_price</th>\n",
       "    </tr>\n",
       "    <tr>\n",
       "      <th>postal_code</th>\n",
       "      <th></th>\n",
       "    </tr>\n",
       "  </thead>\n",
       "  <tbody>\n",
       "    <tr>\n",
       "      <th>19070</th>\n",
       "      <td>252438.0</td>\n",
       "    </tr>\n",
       "    <tr>\n",
       "      <th>19078</th>\n",
       "      <td>580000.0</td>\n",
       "    </tr>\n",
       "    <tr>\n",
       "      <th>19043</th>\n",
       "      <td>219900.0</td>\n",
       "    </tr>\n",
       "    <tr>\n",
       "      <th>19124</th>\n",
       "      <td>55125.0</td>\n",
       "    </tr>\n",
       "    <tr>\n",
       "      <th>19124</th>\n",
       "      <td>69000.0</td>\n",
       "    </tr>\n",
       "  </tbody>\n",
       "</table>\n",
       "</div>"
      ],
      "text/plain": [
       "             median_sale_price\n",
       "postal_code                   \n",
       "19070                 252438.0\n",
       "19078                 580000.0\n",
       "19043                 219900.0\n",
       "19124                  55125.0\n",
       "19124                  69000.0"
      ]
     },
     "execution_count": 12,
     "metadata": {},
     "output_type": "execute_result"
    }
   ],
   "source": [
    "df_red.index = df_red.postal_code\n",
    "df_red = df_red[[\"median_sale_price\"]]\n",
    "print(df_red.shape)\n",
    "df_red.head()"
   ]
  },
  {
   "cell_type": "code",
   "execution_count": 13,
   "metadata": {},
   "outputs": [
    {
     "data": {
      "text/html": [
       "<div>\n",
       "<style scoped>\n",
       "    .dataframe tbody tr th:only-of-type {\n",
       "        vertical-align: middle;\n",
       "    }\n",
       "\n",
       "    .dataframe tbody tr th {\n",
       "        vertical-align: top;\n",
       "    }\n",
       "\n",
       "    .dataframe thead th {\n",
       "        text-align: right;\n",
       "    }\n",
       "</style>\n",
       "<table border=\"1\" class=\"dataframe\">\n",
       "  <thead>\n",
       "    <tr style=\"text-align: right;\">\n",
       "      <th></th>\n",
       "      <th>median_sale_price</th>\n",
       "    </tr>\n",
       "    <tr>\n",
       "      <th>postal_code</th>\n",
       "      <th></th>\n",
       "    </tr>\n",
       "  </thead>\n",
       "  <tbody>\n",
       "    <tr>\n",
       "      <th>19070</th>\n",
       "      <td>252438.0</td>\n",
       "    </tr>\n",
       "    <tr>\n",
       "      <th>19078</th>\n",
       "      <td>580000.0</td>\n",
       "    </tr>\n",
       "    <tr>\n",
       "      <th>19043</th>\n",
       "      <td>219900.0</td>\n",
       "    </tr>\n",
       "    <tr>\n",
       "      <th>19124</th>\n",
       "      <td>55125.0</td>\n",
       "    </tr>\n",
       "    <tr>\n",
       "      <th>19124</th>\n",
       "      <td>69000.0</td>\n",
       "    </tr>\n",
       "  </tbody>\n",
       "</table>\n",
       "</div>"
      ],
      "text/plain": [
       "             median_sale_price\n",
       "postal_code                   \n",
       "19070                 252438.0\n",
       "19078                 580000.0\n",
       "19043                 219900.0\n",
       "19124                  55125.0\n",
       "19124                  69000.0"
      ]
     },
     "execution_count": 13,
     "metadata": {},
     "output_type": "execute_result"
    }
   ],
   "source": [
    "df_red.head()"
   ]
  },
  {
   "cell_type": "code",
   "execution_count": 14,
   "metadata": {},
   "outputs": [
    {
     "name": "stdout",
     "output_type": "stream",
     "text": [
      "(106,)\n"
     ]
    },
    {
     "data": {
      "text/plain": [
       "postal_code\n",
       "19003    348269.932594\n",
       "19008    309258.622892\n",
       "19010    469248.786871\n",
       "19013     52576.980159\n",
       "19014    207546.861213\n",
       "Name: median_sale_price, dtype: float64"
      ]
     },
     "execution_count": 14,
     "metadata": {},
     "output_type": "execute_result"
    }
   ],
   "source": [
    "df_red = df_red.groupby(by=df_red.index)[\"median_sale_price\"].mean()\n",
    "print(df_red.shape)\n",
    "df_red.head()"
   ]
  },
  {
   "cell_type": "code",
   "execution_count": 15,
   "metadata": {},
   "outputs": [
    {
     "name": "stdout",
     "output_type": "stream",
     "text": [
      "(52, 3)\n"
     ]
    },
    {
     "data": {
      "text/html": [
       "<div>\n",
       "<style scoped>\n",
       "    .dataframe tbody tr th:only-of-type {\n",
       "        vertical-align: middle;\n",
       "    }\n",
       "\n",
       "    .dataframe tbody tr th {\n",
       "        vertical-align: top;\n",
       "    }\n",
       "\n",
       "    .dataframe thead th {\n",
       "        text-align: right;\n",
       "    }\n",
       "</style>\n",
       "<table border=\"1\" class=\"dataframe\">\n",
       "  <thead>\n",
       "    <tr style=\"text-align: right;\">\n",
       "      <th></th>\n",
       "      <th>businesses_count</th>\n",
       "      <th>mean_star_ratings</th>\n",
       "      <th>mean_sale_price</th>\n",
       "    </tr>\n",
       "    <tr>\n",
       "      <th>postal_code</th>\n",
       "      <th></th>\n",
       "      <th></th>\n",
       "      <th></th>\n",
       "    </tr>\n",
       "  </thead>\n",
       "  <tbody>\n",
       "    <tr>\n",
       "      <th>19003</th>\n",
       "      <td>586</td>\n",
       "      <td>4.000000</td>\n",
       "      <td>348269.932594</td>\n",
       "    </tr>\n",
       "    <tr>\n",
       "      <th>19010</th>\n",
       "      <td>556</td>\n",
       "      <td>4.500000</td>\n",
       "      <td>469248.786871</td>\n",
       "    </tr>\n",
       "    <tr>\n",
       "      <th>19014</th>\n",
       "      <td>544</td>\n",
       "      <td>3.500000</td>\n",
       "      <td>207546.861213</td>\n",
       "    </tr>\n",
       "    <tr>\n",
       "      <th>19023</th>\n",
       "      <td>508</td>\n",
       "      <td>2.000000</td>\n",
       "      <td>80747.046260</td>\n",
       "    </tr>\n",
       "    <tr>\n",
       "      <th>19102</th>\n",
       "      <td>151455</td>\n",
       "      <td>3.677677</td>\n",
       "      <td>596292.791304</td>\n",
       "    </tr>\n",
       "  </tbody>\n",
       "</table>\n",
       "</div>"
      ],
      "text/plain": [
       "             businesses_count  mean_star_ratings  mean_sale_price\n",
       "postal_code                                                      \n",
       "19003                     586           4.000000    348269.932594\n",
       "19010                     556           4.500000    469248.786871\n",
       "19014                     544           3.500000    207546.861213\n",
       "19023                     508           2.000000     80747.046260\n",
       "19102                  151455           3.677677    596292.791304"
      ]
     },
     "execution_count": 15,
     "metadata": {},
     "output_type": "execute_result"
    }
   ],
   "source": [
    "pc_count_rating = pc_count_rating.merge(df_red, on=\"postal_code\")\n",
    "pc_count_rating.rename(columns = {'median_sale_price':'mean_sale_price'}, inplace = True)\n",
    "print(pc_count_rating.shape)\n",
    "pc_count_rating.head()"
   ]
  },
  {
   "cell_type": "code",
   "execution_count": 16,
   "metadata": {},
   "outputs": [
    {
     "data": {
      "text/plain": [
       "<seaborn.axisgrid.PairGrid at 0x12323b8e730>"
      ]
     },
     "execution_count": 16,
     "metadata": {},
     "output_type": "execute_result"
    },
    {
     "data": {
      "image/png": "[encoded data removed]",
      "text/plain": [
       "<Figure size 540x540 with 12 Axes>"
      ]
     },
     "metadata": {
      "needs_background": "light"
     },
     "output_type": "display_data"
    }
   ],
   "source": [
    "sns.pairplot(pc_count_rating)"
   ]
  },
  {
   "cell_type": "code",
   "execution_count": 17,
   "metadata": {},
   "outputs": [
    {
     "data": {
      "text/html": [
       "<div>\n",
       "<style scoped>\n",
       "    .dataframe tbody tr th:only-of-type {\n",
       "        vertical-align: middle;\n",
       "    }\n",
       "\n",
       "    .dataframe tbody tr th {\n",
       "        vertical-align: top;\n",
       "    }\n",
       "\n",
       "    .dataframe thead th {\n",
       "        text-align: right;\n",
       "    }\n",
       "</style>\n",
       "<table border=\"1\" class=\"dataframe\">\n",
       "  <thead>\n",
       "    <tr style=\"text-align: right;\">\n",
       "      <th></th>\n",
       "      <th>businesses_count</th>\n",
       "      <th>mean_star_ratings</th>\n",
       "      <th>mean_sale_price</th>\n",
       "    </tr>\n",
       "  </thead>\n",
       "  <tbody>\n",
       "    <tr>\n",
       "      <th>businesses_count</th>\n",
       "      <td>1.000000</td>\n",
       "      <td>0.346552</td>\n",
       "      <td>0.623567</td>\n",
       "    </tr>\n",
       "    <tr>\n",
       "      <th>mean_star_ratings</th>\n",
       "      <td>0.346552</td>\n",
       "      <td>1.000000</td>\n",
       "      <td>0.619204</td>\n",
       "    </tr>\n",
       "    <tr>\n",
       "      <th>mean_sale_price</th>\n",
       "      <td>0.623567</td>\n",
       "      <td>0.619204</td>\n",
       "      <td>1.000000</td>\n",
       "    </tr>\n",
       "  </tbody>\n",
       "</table>\n",
       "</div>"
      ],
      "text/plain": [
       "                   businesses_count  mean_star_ratings  mean_sale_price\n",
       "businesses_count           1.000000           0.346552         0.623567\n",
       "mean_star_ratings          0.346552           1.000000         0.619204\n",
       "mean_sale_price            0.623567           0.619204         1.000000"
      ]
     },
     "execution_count": 17,
     "metadata": {},
     "output_type": "execute_result"
    }
   ],
   "source": [
    "pc_count_rating.corr()"
   ]
  },
  {
   "cell_type": "code",
   "execution_count": 18,
   "metadata": {},
   "outputs": [
    {
     "name": "stdout",
     "output_type": "stream",
     "text": [
      "(Pearson correlation coefficient, p-value) of businesses_count - mean_sale_price: (0.6235671609068794, 7.889606739731601e-07) \n",
      "(Pearson correlation coefficient, p-value) of mean_star_ratings - mean_sale_price: (0.6192040944732908, 9.902401614564565e-07)\n"
     ]
    }
   ],
   "source": [
    "count_price = stats.pearsonr(pc_count_rating.businesses_count, pc_count_rating.mean_sale_price)\n",
    "rating_price = stats.pearsonr(pc_count_rating.mean_star_ratings, pc_count_rating.mean_sale_price)\n",
    "print(f\"(Pearson correlation coefficient, p-value) of businesses_count - mean_sale_price: {count_price} \\n(Pearson correlation coefficient, p-value) of mean_star_ratings - mean_sale_price: {rating_price}\")"
   ]
  },
  {
   "cell_type": "markdown",
   "metadata": {},
   "source": [
    "Βλέπουμε ότι οι σχέσεις με τη μεγαλύτερη γραμμική συσχέτιση είναι businesses_count - mean_sale_price και mean_star_ratings - mean_sale_price για αυτό και στην συνέχεια υπολογίσαμε και τα p-values που βρήκαμε ότι είναι πολύ μικρά της τάξης του ${10^-7}$ που σημαίνει πως είναι πολύ δύσκολο οι συσχετίσεις να είναι τυχαίες, δίνοντας έτσι μεγαλύτερη αξιοτιμια στον συντελεστή συσχέτισης Pearson."
   ]
  },
  {
   "cell_type": "code",
   "execution_count": 19,
   "metadata": {},
   "outputs": [
    {
     "data": {
      "text/plain": [
       "<AxesSubplot:>"
      ]
     },
     "execution_count": 19,
     "metadata": {},
     "output_type": "execute_result"
    },
    {
     "data": {
      "image/png": "[encoded data removed]",
      "text/plain": [
       "<Figure size 432x288 with 2 Axes>"
      ]
     },
     "metadata": {
      "needs_background": "light"
     },
     "output_type": "display_data"
    }
   ],
   "source": [
    "sns.heatmap(pc_count_rating.corr())"
   ]
  },
  {
   "cell_type": "markdown",
   "metadata": {},
   "source": [
    "## Τελικά Συμπεράσματα\n",
    "Μπορούμε να παρατηρήσουμε, μέτριες θετικές συσχετίσεις της τάξης του 0.6 μεταξύ των:\n",
    "1.  mean_sale_price - busnesses_count   (μέσο κόστος περιοχής - πλήθος επιχειρήσεων) και\n",
    " \n",
    "2.  mean_sale_price - mean_star_rating   (μέσο κόστος περιοχής - μέση κριτική καταστημάτων )\n",
    "\n",
    "Η 1. μπορεί να εξηγηθεί με την λογική ότι η ύπαρξη πολλών επιχειρήσεων σε μια περιοχή, αυξάνει τον ανταγωνισμό για τα ακίνητα της, ανεβάζοντας έτσι το μέσο κόστος της περιοχής.   \n",
    "\n",
    "Η 2. μπορεί να εξηγηθεί με την λογική ότι τα καταστήματα που ανοίγουν σε περιοχές με μεγαλύτερο κόστος συνήθως έχουν μεγαλύτερο budget και μπορούν να παρέχουν καλύτερες υπηρεσίες στους πελάτες τους ανεβάζοντας έτσι το μέσο rating τους. \n",
    "\n",
    "\n",
    "Η αρχική υπόθεση της άσκησης φαίνεται πως είναι σωστή.\n"
   ]
  }
 ],
 "metadata": {
  "kernelspec": {
   "display_name": "Python 3 (ipykernel)",
   "language": "python",
   "name": "python3"
  },
  "language_info": {
   "codemirror_mode": {
    "name": "ipython",
    "version": 3
   },
   "file_extension": ".py",
   "mimetype": "text/x-python",
   "name": "python",
   "nbconvert_exporter": "python",
   "pygments_lexer": "ipython3",
   "version": "3.9.7 (default, Sep 16 2021, 16:59:28) [MSC v.1916 64 bit (AMD64)]"
  },
  "vscode": {
   "interpreter": {
    "hash": "5bf5137ea94996cf045b4e01cc05ea6528fbc1ec529e737db76b4d8a5ada53af"
   }
  }
 },
 "nbformat": 4,
 "nbformat_minor": 2
}
