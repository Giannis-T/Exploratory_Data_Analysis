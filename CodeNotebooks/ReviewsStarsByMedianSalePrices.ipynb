{
 "cells": [
  {
   "cell_type": "markdown",
   "metadata": {},
   "source": [
    "# Ερωτηση 3 | 3.Ζ"
   ]
  },
  {
   "cell_type": "code",
   "execution_count": 1,
   "metadata": {},
   "outputs": [],
   "source": [
    "import pandas as pd\n",
    "import scipy as sp \n",
    "from scipy import stats\n",
    "import numpy as np\n",
    "import seaborn as sns\n",
    "from scipy.spatial.distance import cosine"
   ]
  },
  {
   "cell_type": "code",
   "execution_count": 2,
   "metadata": {},
   "outputs": [
    {
     "name": "stdout",
     "output_type": "stream",
     "text": [
      "Businesses: (11070, 15)\n",
      "Restaurants: (4829, 16)\n",
      "Redfin_median_prices: (45244, 58)\n"
     ]
    }
   ],
   "source": [
    "df_bus = pd.read_csv(\"business.csv\") # Businesses Dataframe\n",
    "df_res =  pd.read_csv('restaurants.csv') # Restaurants Dataframe\n",
    "df_red = pd.read_csv('RedfinPhila.tsv', sep='\\t')\n",
    "\n",
    "print(\"Businesses:\", df_bus.shape)  # Businesses have one more column than Restaurants named 'Unnamed: 0.1' \n",
    "print(\"Restaurants:\", df_res.shape)\n",
    "print(\"Redfin_median_prices:\", df_red.shape)\n",
    "\n"
   ]
  },
  {
   "cell_type": "code",
   "execution_count": 3,
   "metadata": {},
   "outputs": [
    {
     "name": "stdout",
     "output_type": "stream",
     "text": [
      "Businesses Excluding Restaurants: (6238, 15)\n"
     ]
    },
    {
     "data": {
      "text/html": [
       "<div>\n",
       "<style scoped>\n",
       "    .dataframe tbody tr th:only-of-type {\n",
       "        vertical-align: middle;\n",
       "    }\n",
       "\n",
       "    .dataframe tbody tr th {\n",
       "        vertical-align: top;\n",
       "    }\n",
       "\n",
       "    .dataframe thead th {\n",
       "        text-align: right;\n",
       "    }\n",
       "</style>\n",
       "<table border=\"1\" class=\"dataframe\">\n",
       "  <thead>\n",
       "    <tr style=\"text-align: right;\">\n",
       "      <th></th>\n",
       "      <th>Unnamed: 0</th>\n",
       "      <th>business_id</th>\n",
       "      <th>name</th>\n",
       "      <th>address</th>\n",
       "      <th>city</th>\n",
       "      <th>state</th>\n",
       "      <th>postal_code</th>\n",
       "      <th>latitude</th>\n",
       "      <th>longitude</th>\n",
       "      <th>stars</th>\n",
       "      <th>review_count</th>\n",
       "      <th>is_open</th>\n",
       "      <th>attributes</th>\n",
       "      <th>categories</th>\n",
       "      <th>hours</th>\n",
       "    </tr>\n",
       "  </thead>\n",
       "  <tbody>\n",
       "    <tr>\n",
       "      <th>0</th>\n",
       "      <td>6</td>\n",
       "      <td>-4dYswJy7SPcbcERvitmIg</td>\n",
       "      <td>Pathmark</td>\n",
       "      <td>3021 Grays Ferry Ave</td>\n",
       "      <td>Philadelphia</td>\n",
       "      <td>PA</td>\n",
       "      <td>19146</td>\n",
       "      <td>39.940403</td>\n",
       "      <td>-75.193297</td>\n",
       "      <td>2.5</td>\n",
       "      <td>34</td>\n",
       "      <td>0</td>\n",
       "      <td>{'RestaurantsPriceRange2': '2', 'BusinessParki...</td>\n",
       "      <td>Food, Grocery</td>\n",
       "      <td>{'Monday': '6:0-1:0', 'Tuesday': '6:0-1:0', 'W...</td>\n",
       "    </tr>\n",
       "    <tr>\n",
       "      <th>1</th>\n",
       "      <td>8</td>\n",
       "      <td>eMjnw_7wp-CscyNh6Lu0ZA</td>\n",
       "      <td>AM&amp;PM Locksmith</td>\n",
       "      <td>8540 Bustleton Ave</td>\n",
       "      <td>Philadelphia</td>\n",
       "      <td>PA</td>\n",
       "      <td>19152</td>\n",
       "      <td>40.072330</td>\n",
       "      <td>-75.048483</td>\n",
       "      <td>4.5</td>\n",
       "      <td>58</td>\n",
       "      <td>1</td>\n",
       "      <td>{'ByAppointmentOnly': 'True', 'BusinessAccepts...</td>\n",
       "      <td>Keys &amp; Locksmiths, Home Services, Local Services</td>\n",
       "      <td>{'Monday': '6:0-3:0', 'Tuesday': '6:0-3:0', 'W...</td>\n",
       "    </tr>\n",
       "    <tr>\n",
       "      <th>2</th>\n",
       "      <td>9</td>\n",
       "      <td>xfmkEGiIERBaBMLhw-dTCg</td>\n",
       "      <td>Walmart Vision &amp; Glasses</td>\n",
       "      <td>1675 S Christopher Columbus Blvd</td>\n",
       "      <td>Philadelphia</td>\n",
       "      <td>PA</td>\n",
       "      <td>19148</td>\n",
       "      <td>39.919809</td>\n",
       "      <td>-75.157803</td>\n",
       "      <td>4.5</td>\n",
       "      <td>6</td>\n",
       "      <td>1</td>\n",
       "      <td>{'RestaurantsPriceRange2': '2', 'BusinessAccep...</td>\n",
       "      <td>Eyewear &amp; Opticians, Shopping</td>\n",
       "      <td>{'Monday': '9:0-20:0', 'Tuesday': '9:0-20:0', ...</td>\n",
       "    </tr>\n",
       "    <tr>\n",
       "      <th>3</th>\n",
       "      <td>11</td>\n",
       "      <td>GWGXTKR0Fhdvzf_isDqJug</td>\n",
       "      <td>David Gower, Jr.  - Coldwell Banker Preferred</td>\n",
       "      <td>325 Chestnut St, Ste 1300</td>\n",
       "      <td>Philadelphia</td>\n",
       "      <td>PA</td>\n",
       "      <td>19106</td>\n",
       "      <td>39.949027</td>\n",
       "      <td>-75.147190</td>\n",
       "      <td>5.0</td>\n",
       "      <td>17</td>\n",
       "      <td>1</td>\n",
       "      <td>{'BusinessAcceptsCreditCards': 'True', 'ByAppo...</td>\n",
       "      <td>Real Estate, Home Services, Real Estate Agents</td>\n",
       "      <td>{'Monday': '9:0-19:0', 'Tuesday': '9:0-19:0', ...</td>\n",
       "    </tr>\n",
       "    <tr>\n",
       "      <th>4</th>\n",
       "      <td>12</td>\n",
       "      <td>-aeZuatjCDMV1X4gCTz9Ug</td>\n",
       "      <td>David Thomas Trailways</td>\n",
       "      <td>14005 McNulty Rd</td>\n",
       "      <td>Philadelphia</td>\n",
       "      <td>PA</td>\n",
       "      <td>19154</td>\n",
       "      <td>40.106409</td>\n",
       "      <td>-74.973937</td>\n",
       "      <td>4.5</td>\n",
       "      <td>6</td>\n",
       "      <td>1</td>\n",
       "      <td>{'WiFi': \"u'free'\"}</td>\n",
       "      <td>Buses, Transportation, Bus Tours, Hotels &amp; Tra...</td>\n",
       "      <td>{'Monday': '8:30-17:0', 'Tuesday': '8:30-17:0'...</td>\n",
       "    </tr>\n",
       "  </tbody>\n",
       "</table>\n",
       "</div>"
      ],
      "text/plain": [
       "   Unnamed: 0             business_id  \\\n",
       "0           6  -4dYswJy7SPcbcERvitmIg   \n",
       "1           8  eMjnw_7wp-CscyNh6Lu0ZA   \n",
       "2           9  xfmkEGiIERBaBMLhw-dTCg   \n",
       "3          11  GWGXTKR0Fhdvzf_isDqJug   \n",
       "4          12  -aeZuatjCDMV1X4gCTz9Ug   \n",
       "\n",
       "                                            name  \\\n",
       "0                                       Pathmark   \n",
       "1                                AM&PM Locksmith   \n",
       "2                       Walmart Vision & Glasses   \n",
       "3  David Gower, Jr.  - Coldwell Banker Preferred   \n",
       "4                         David Thomas Trailways   \n",
       "\n",
       "                            address          city state postal_code  \\\n",
       "0              3021 Grays Ferry Ave  Philadelphia    PA       19146   \n",
       "1                8540 Bustleton Ave  Philadelphia    PA       19152   \n",
       "2  1675 S Christopher Columbus Blvd  Philadelphia    PA       19148   \n",
       "3         325 Chestnut St, Ste 1300  Philadelphia    PA       19106   \n",
       "4                  14005 McNulty Rd  Philadelphia    PA       19154   \n",
       "\n",
       "    latitude  longitude  stars  review_count  is_open  \\\n",
       "0  39.940403 -75.193297    2.5            34        0   \n",
       "1  40.072330 -75.048483    4.5            58        1   \n",
       "2  39.919809 -75.157803    4.5             6        1   \n",
       "3  39.949027 -75.147190    5.0            17        1   \n",
       "4  40.106409 -74.973937    4.5             6        1   \n",
       "\n",
       "                                          attributes  \\\n",
       "0  {'RestaurantsPriceRange2': '2', 'BusinessParki...   \n",
       "1  {'ByAppointmentOnly': 'True', 'BusinessAccepts...   \n",
       "2  {'RestaurantsPriceRange2': '2', 'BusinessAccep...   \n",
       "3  {'BusinessAcceptsCreditCards': 'True', 'ByAppo...   \n",
       "4                                {'WiFi': \"u'free'\"}   \n",
       "\n",
       "                                          categories  \\\n",
       "0                                      Food, Grocery   \n",
       "1   Keys & Locksmiths, Home Services, Local Services   \n",
       "2                      Eyewear & Opticians, Shopping   \n",
       "3     Real Estate, Home Services, Real Estate Agents   \n",
       "4  Buses, Transportation, Bus Tours, Hotels & Tra...   \n",
       "\n",
       "                                               hours  \n",
       "0  {'Monday': '6:0-1:0', 'Tuesday': '6:0-1:0', 'W...  \n",
       "1  {'Monday': '6:0-3:0', 'Tuesday': '6:0-3:0', 'W...  \n",
       "2  {'Monday': '9:0-20:0', 'Tuesday': '9:0-20:0', ...  \n",
       "3  {'Monday': '9:0-19:0', 'Tuesday': '9:0-19:0', ...  \n",
       "4  {'Monday': '8:30-17:0', 'Tuesday': '8:30-17:0'...  "
      ]
     },
     "execution_count": 3,
     "metadata": {},
     "output_type": "execute_result"
    }
   ],
   "source": [
    "df_bus = df_bus.loc[~df_bus.business_id.isin(df_res.business_id)]\n",
    "df_bus.dropna(subset=['postal_code'], inplace=True)\n",
    "df_bus[\"postal_code\"] = df_bus.postal_code.astype(int)\n",
    "df_bus.postal_code = df_bus.postal_code.astype(str)\n",
    "df_bus.reset_index(drop=True, inplace=True)\n",
    "\n",
    "print(\"Businesses Excluding Restaurants:\", df_bus.shape)  # Businesses have one more column than Restaurants named 'Unnamed: 0.1' \n",
    "df_bus.head()"
   ]
  },
  {
   "cell_type": "code",
   "execution_count": 4,
   "metadata": {},
   "outputs": [
    {
     "name": "stdout",
     "output_type": "stream",
     "text": [
      "(10727, 1)\n"
     ]
    },
    {
     "data": {
      "text/html": [
       "<div>\n",
       "<style scoped>\n",
       "    .dataframe tbody tr th:only-of-type {\n",
       "        vertical-align: middle;\n",
       "    }\n",
       "\n",
       "    .dataframe tbody tr th {\n",
       "        vertical-align: top;\n",
       "    }\n",
       "\n",
       "    .dataframe thead th {\n",
       "        text-align: right;\n",
       "    }\n",
       "</style>\n",
       "<table border=\"1\" class=\"dataframe\">\n",
       "  <thead>\n",
       "    <tr style=\"text-align: right;\">\n",
       "      <th></th>\n",
       "      <th></th>\n",
       "      <th>categories</th>\n",
       "    </tr>\n",
       "    <tr>\n",
       "      <th>postal_code</th>\n",
       "      <th></th>\n",
       "      <th></th>\n",
       "    </tr>\n",
       "  </thead>\n",
       "  <tbody>\n",
       "    <tr>\n",
       "      <th rowspan=\"5\" valign=\"top\">19003</th>\n",
       "      <th>Contractors</th>\n",
       "      <td>1</td>\n",
       "    </tr>\n",
       "    <tr>\n",
       "      <th>Local Services</th>\n",
       "      <td>1</td>\n",
       "    </tr>\n",
       "    <tr>\n",
       "      <th>Home Services</th>\n",
       "      <td>1</td>\n",
       "    </tr>\n",
       "    <tr>\n",
       "      <th>Painters</th>\n",
       "      <td>1</td>\n",
       "    </tr>\n",
       "    <tr>\n",
       "      <th>Handyman</th>\n",
       "      <td>1</td>\n",
       "    </tr>\n",
       "  </tbody>\n",
       "</table>\n",
       "</div>"
      ],
      "text/plain": [
       "                             categories\n",
       "postal_code                            \n",
       "19003       Contractors               1\n",
       "             Local Services           1\n",
       "             Home Services            1\n",
       "             Painters                 1\n",
       "             Handyman                 1"
      ]
     },
     "execution_count": 4,
     "metadata": {},
     "output_type": "execute_result"
    }
   ],
   "source": [
    "df_cat_freq = pd.DataFrame(df_bus.groupby(by=\"postal_code\")[\"categories\"].apply(lambda c: c.str.split(',', expand=True).stack().value_counts()))\n",
    "print(df_cat_freq.shape)\n",
    "df_cat_freq.head()"
   ]
  },
  {
   "cell_type": "code",
   "execution_count": 5,
   "metadata": {},
   "outputs": [
    {
     "name": "stdout",
     "output_type": "stream",
     "text": [
      "824 1341\n"
     ]
    }
   ],
   "source": [
    "initial_categories = set(df_bus[\"categories\"].str.split(',', expand=True).stack().value_counts().index)\n",
    "different_categories = set()\n",
    "for category  in initial_categories:\n",
    "    category = category.strip()\n",
    "    different_categories.add(category)\n",
    "\n",
    "# print(different_categories.shape)\n",
    "print(len(different_categories), len(initial_categories))\n",
    "# What happened to the first?"
   ]
  },
  {
   "cell_type": "code",
   "execution_count": 6,
   "metadata": {},
   "outputs": [],
   "source": [
    "def set_categories(attr):\n",
    "    try:\n",
    "        attr = attr.categories\n",
    "        categories = \"\" \n",
    "        for i in attr:\n",
    "            categories += i\n",
    "        categories = categories.split(\",\")\n",
    "        all_categories = dict.fromkeys(different_categories, 0)\n",
    "        for category in categories:\n",
    "            category = category.strip()\n",
    "            try:        # Normally this try shouldnt exist, since all_categories should contain every key category.\n",
    "                all_categories[category] += 1       \n",
    "            except:\n",
    "                pass\n",
    "        return all_categories\n",
    "    except:\n",
    "        return None"
   ]
  },
  {
   "cell_type": "code",
   "execution_count": 7,
   "metadata": {},
   "outputs": [
    {
     "name": "stdout",
     "output_type": "stream",
     "text": [
      "(80, 1)\n"
     ]
    },
    {
     "data": {
      "text/html": [
       "<div>\n",
       "<style scoped>\n",
       "    .dataframe tbody tr th:only-of-type {\n",
       "        vertical-align: middle;\n",
       "    }\n",
       "\n",
       "    .dataframe tbody tr th {\n",
       "        vertical-align: top;\n",
       "    }\n",
       "\n",
       "    .dataframe thead th {\n",
       "        text-align: right;\n",
       "    }\n",
       "</style>\n",
       "<table border=\"1\" class=\"dataframe\">\n",
       "  <thead>\n",
       "    <tr style=\"text-align: right;\">\n",
       "      <th></th>\n",
       "      <th>num_of_categories</th>\n",
       "      <th>postal_code</th>\n",
       "    </tr>\n",
       "  </thead>\n",
       "  <tbody>\n",
       "    <tr>\n",
       "      <th>0</th>\n",
       "      <td>{'Real Estate Services': 0, 'Used Car Dealers'...</td>\n",
       "      <td>19003</td>\n",
       "    </tr>\n",
       "    <tr>\n",
       "      <th>1</th>\n",
       "      <td>{'Real Estate Services': 0, 'Used Car Dealers'...</td>\n",
       "      <td>19004</td>\n",
       "    </tr>\n",
       "    <tr>\n",
       "      <th>2</th>\n",
       "      <td>{'Real Estate Services': 0, 'Used Car Dealers'...</td>\n",
       "      <td>19006</td>\n",
       "    </tr>\n",
       "    <tr>\n",
       "      <th>3</th>\n",
       "      <td>{'Real Estate Services': 0, 'Used Car Dealers'...</td>\n",
       "      <td>19010</td>\n",
       "    </tr>\n",
       "    <tr>\n",
       "      <th>4</th>\n",
       "      <td>{'Real Estate Services': 0, 'Used Car Dealers'...</td>\n",
       "      <td>19012</td>\n",
       "    </tr>\n",
       "  </tbody>\n",
       "</table>\n",
       "</div>"
      ],
      "text/plain": [
       "                                   num_of_categories postal_code\n",
       "0  {'Real Estate Services': 0, 'Used Car Dealers'...       19003\n",
       "1  {'Real Estate Services': 0, 'Used Car Dealers'...       19004\n",
       "2  {'Real Estate Services': 0, 'Used Car Dealers'...       19006\n",
       "3  {'Real Estate Services': 0, 'Used Car Dealers'...       19010\n",
       "4  {'Real Estate Services': 0, 'Used Car Dealers'...       19012"
      ]
     },
     "execution_count": 7,
     "metadata": {},
     "output_type": "execute_result"
    }
   ],
   "source": [
    "df_pc_cat = pd.DataFrame(df_bus.groupby(by=\"postal_code\").apply(set_categories))\n",
    "print(df_pc_cat.shape)\n",
    "df_pc_cat.rename(columns = {0:'num_of_categories'}, inplace = True)\n",
    "df_pc_cat[\"postal_code\"] = df_pc_cat.index\n",
    "df_pc_cat.reset_index(drop=True, inplace=True)\n",
    "df_pc_cat.head()\n"
   ]
  },
  {
   "cell_type": "markdown",
   "metadata": {},
   "source": [
    "Για να δουμε ποιες περιοχες εχουν κοινη οικονομικη κατασταση θα δουμε το Redfin Median Sale Prices "
   ]
  },
  {
   "cell_type": "code",
   "execution_count": 8,
   "metadata": {},
   "outputs": [
    {
     "name": "stdout",
     "output_type": "stream",
     "text": [
      "(106, 1)\n"
     ]
    },
    {
     "data": {
      "text/html": [
       "<div>\n",
       "<style scoped>\n",
       "    .dataframe tbody tr th:only-of-type {\n",
       "        vertical-align: middle;\n",
       "    }\n",
       "\n",
       "    .dataframe tbody tr th {\n",
       "        vertical-align: top;\n",
       "    }\n",
       "\n",
       "    .dataframe thead th {\n",
       "        text-align: right;\n",
       "    }\n",
       "</style>\n",
       "<table border=\"1\" class=\"dataframe\">\n",
       "  <thead>\n",
       "    <tr style=\"text-align: right;\">\n",
       "      <th></th>\n",
       "      <th>median_sale_price</th>\n",
       "    </tr>\n",
       "    <tr>\n",
       "      <th>postal_code</th>\n",
       "      <th></th>\n",
       "    </tr>\n",
       "  </thead>\n",
       "  <tbody>\n",
       "    <tr>\n",
       "      <th>19003</th>\n",
       "      <td>348269.932594</td>\n",
       "    </tr>\n",
       "    <tr>\n",
       "      <th>19008</th>\n",
       "      <td>309258.622892</td>\n",
       "    </tr>\n",
       "    <tr>\n",
       "      <th>19010</th>\n",
       "      <td>469248.786871</td>\n",
       "    </tr>\n",
       "    <tr>\n",
       "      <th>19013</th>\n",
       "      <td>52576.980159</td>\n",
       "    </tr>\n",
       "    <tr>\n",
       "      <th>19014</th>\n",
       "      <td>207546.861213</td>\n",
       "    </tr>\n",
       "  </tbody>\n",
       "</table>\n",
       "</div>"
      ],
      "text/plain": [
       "             median_sale_price\n",
       "postal_code                   \n",
       "19003            348269.932594\n",
       "19008            309258.622892\n",
       "19010            469248.786871\n",
       "19013             52576.980159\n",
       "19014            207546.861213"
      ]
     },
     "execution_count": 8,
     "metadata": {},
     "output_type": "execute_result"
    }
   ],
   "source": [
    "df_red = df_red[[\"median_sale_price\", \"region\"]]\n",
    "df_red[\"region\"] = df_red.region.apply(lambda s: s.strip(\"Zip Code: \"))\n",
    "df_red.rename(columns = {'region':'postal_code'}, inplace = True)\n",
    "df_red = df_red.groupby(by=\"postal_code\")[\"median_sale_price\"].mean()\n",
    "# df_red.index = df_red.postal_code\n",
    "df_red = pd.DataFrame(df_red)\n",
    "print(df_red.shape)\n",
    "df_red.head()"
   ]
  },
  {
   "cell_type": "code",
   "execution_count": 9,
   "metadata": {},
   "outputs": [
    {
     "name": "stdout",
     "output_type": "stream",
     "text": [
      "(52, 2)\n"
     ]
    },
    {
     "data": {
      "text/html": [
       "<div>\n",
       "<style scoped>\n",
       "    .dataframe tbody tr th:only-of-type {\n",
       "        vertical-align: middle;\n",
       "    }\n",
       "\n",
       "    .dataframe tbody tr th {\n",
       "        vertical-align: top;\n",
       "    }\n",
       "\n",
       "    .dataframe thead th {\n",
       "        text-align: right;\n",
       "    }\n",
       "</style>\n",
       "<table border=\"1\" class=\"dataframe\">\n",
       "  <thead>\n",
       "    <tr style=\"text-align: right;\">\n",
       "      <th></th>\n",
       "      <th>num_of_categories</th>\n",
       "      <th>median_sale_price</th>\n",
       "    </tr>\n",
       "    <tr>\n",
       "      <th>postal_code</th>\n",
       "      <th></th>\n",
       "      <th></th>\n",
       "    </tr>\n",
       "  </thead>\n",
       "  <tbody>\n",
       "    <tr>\n",
       "      <th>19003</th>\n",
       "      <td>{'Real Estate Services': 0, 'Used Car Dealers'...</td>\n",
       "      <td>348269.932594</td>\n",
       "    </tr>\n",
       "    <tr>\n",
       "      <th>19010</th>\n",
       "      <td>{'Real Estate Services': 0, 'Used Car Dealers'...</td>\n",
       "      <td>469248.786871</td>\n",
       "    </tr>\n",
       "    <tr>\n",
       "      <th>19014</th>\n",
       "      <td>{'Real Estate Services': 0, 'Used Car Dealers'...</td>\n",
       "      <td>207546.861213</td>\n",
       "    </tr>\n",
       "    <tr>\n",
       "      <th>19023</th>\n",
       "      <td>{'Real Estate Services': 0, 'Used Car Dealers'...</td>\n",
       "      <td>80747.046260</td>\n",
       "    </tr>\n",
       "    <tr>\n",
       "      <th>19102</th>\n",
       "      <td>{'Real Estate Services': 4, 'Used Car Dealers'...</td>\n",
       "      <td>596292.791304</td>\n",
       "    </tr>\n",
       "  </tbody>\n",
       "</table>\n",
       "</div>"
      ],
      "text/plain": [
       "                                             num_of_categories  \\\n",
       "postal_code                                                      \n",
       "19003        {'Real Estate Services': 0, 'Used Car Dealers'...   \n",
       "19010        {'Real Estate Services': 0, 'Used Car Dealers'...   \n",
       "19014        {'Real Estate Services': 0, 'Used Car Dealers'...   \n",
       "19023        {'Real Estate Services': 0, 'Used Car Dealers'...   \n",
       "19102        {'Real Estate Services': 4, 'Used Car Dealers'...   \n",
       "\n",
       "             median_sale_price  \n",
       "postal_code                     \n",
       "19003            348269.932594  \n",
       "19010            469248.786871  \n",
       "19014            207546.861213  \n",
       "19023             80747.046260  \n",
       "19102            596292.791304  "
      ]
     },
     "execution_count": 9,
     "metadata": {},
     "output_type": "execute_result"
    }
   ],
   "source": [
    "df_cat_price = df_pc_cat.merge(df_red, on=\"postal_code\")\n",
    "df_cat_price.index = df_cat_price.postal_code\n",
    "df_cat_price = df_cat_price[[\"num_of_categories\", \"median_sale_price\"]]\n",
    "print(df_cat_price.shape)\n",
    "df_cat_price.head()"
   ]
  },
  {
   "cell_type": "code",
   "execution_count": 10,
   "metadata": {},
   "outputs": [
    {
     "data": {
      "text/plain": [
       "(52, 2)"
      ]
     },
     "execution_count": 10,
     "metadata": {},
     "output_type": "execute_result"
    }
   ],
   "source": [
    "df_by_sale_price = df_cat_price.sort_values(\"median_sale_price\")\n",
    "df_by_sale_price_reverse = df_cat_price.sort_values(\"median_sale_price\", ascending=False)\n",
    "\n",
    "df_by_sale_price.shape"
   ]
  },
  {
   "cell_type": "code",
   "execution_count": 11,
   "metadata": {},
   "outputs": [],
   "source": [
    "cosine_distances_by_2 = []\n",
    "cosine_distances_by_2_rev = []\n",
    "\n",
    "for i in range(49):\n",
    "    cosine_distances_by_2.append(1 - cosine(pd.Series(df_by_sale_price.num_of_categories[i]), pd.Series(df_by_sale_price.num_of_categories[i+1])))\n",
    "for i in range(49):\n",
    "    cosine_distances_by_2_rev.append(1 - cosine(pd.Series(df_by_sale_price_reverse.num_of_categories[i]), pd.Series(df_by_sale_price_reverse.num_of_categories[i+1])))"
   ]
  },
  {
   "cell_type": "code",
   "execution_count": 12,
   "metadata": {},
   "outputs": [
    {
     "data": {
      "text/plain": [
       "0.5334435326657871"
      ]
     },
     "execution_count": 12,
     "metadata": {},
     "output_type": "execute_result"
    }
   ],
   "source": [
    "(np.array(cosine_distances_by_2).mean() + np.array(cosine_distances_by_2_rev).mean()) / 2"
   ]
  },
  {
   "cell_type": "markdown",
   "metadata": {},
   "source": [
    "## Τελικά Συμπεράσματα\n",
    "Από εδώ βλέπουμε ότι οι περιοχές που έχουν (γειτονικές) αξίες που δηλαδή είναι κοντινές, έχουν κατά μέσο ορό 0.53 συσχέτιση που είναι μέτριος υψηλή. Άρα, πιστεύουμε ότι υπάρχει κάποια συσχέτιση. Ο τρόπος που έβγαλα τα συμπεράσματα δεν είναι κάλος αν όχι λάθος και δεν υπάρχει στατιστικός έλεγχος, για να βεβαιωθούμε ότι αυτό το αποτέλεσμα δεν μπορεί να προκύψει από ανεξάρτητες τυχαίες μεταβλητές."
   ]
  }
 ],
 "metadata": {
  "kernelspec": {
   "display_name": "Python 3 (ipykernel)",
   "language": "python",
   "name": "python3"
  },
  "language_info": {
   "codemirror_mode": {
    "name": "ipython",
    "version": 3
   },
   "file_extension": ".py",
   "mimetype": "text/x-python",
   "name": "python",
   "nbconvert_exporter": "python",
   "pygments_lexer": "ipython3",
   "version": "3.9.7"
  },
  "vscode": {
   "interpreter": {
    "hash": "5bf5137ea94996cf045b4e01cc05ea6528fbc1ec529e737db76b4d8a5ada53af"
   }
  }
 },
 "nbformat": 4,
 "nbformat_minor": 2
}
