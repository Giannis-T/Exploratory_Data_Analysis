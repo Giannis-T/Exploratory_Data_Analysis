{
 "cells": [
  {
   "cell_type": "markdown",
   "metadata": {},
   "source": [
    "# Ερωτηση 3\n",
    "### Β)"
   ]
  },
  {
   "cell_type": "code",
   "execution_count": 1,
   "metadata": {},
   "outputs": [],
   "source": [
    "import pandas as pd\n",
    "import numpy as np\n",
    "from matplotlib import pyplot as plt\n",
    "from datetime import timedelta\n",
    "import datetime as datetime\n",
    "import seaborn as sns\n",
    "import scipy as sp \n",
    "from scipy import stats\n",
    "from math import floor"
   ]
  },
  {
   "cell_type": "code",
   "execution_count": 2,
   "metadata": {},
   "outputs": [],
   "source": [
    "df_bus = pd.read_csv(\"business.csv\") # Businesses Dataframe\n",
    "df_rev = pd.read_csv('reviews.csv') # Reviews Dataframe"
   ]
  },
  {
   "cell_type": "code",
   "execution_count": 3,
   "metadata": {},
   "outputs": [],
   "source": [
    "df_rev = df_rev.sort_values(by = 'date')\n",
    "# df_rev.date = df_rev.date.apply(lambda d: pd.to_datetime(d[0:10]))\n"
   ]
  },
  {
   "cell_type": "markdown",
   "metadata": {},
   "source": [
    "Σε αυτο το σημειο, εχουμε ολες τις ημερομηνιες που εγιναν τα reviews, ταξινομημενα, κρατωντας τον χρονο, μηνα και ημερα που εγινε το review."
   ]
  },
  {
   "cell_type": "code",
   "execution_count": 4,
   "metadata": {},
   "outputs": [],
   "source": [
    "df_first_revs = df_rev.groupby('business_id', as_index=False).first()"
   ]
  },
  {
   "cell_type": "code",
   "execution_count": 5,
   "metadata": {},
   "outputs": [],
   "source": [
    "df_first_revs = df_first_revs[[\"business_id\",\"date\"]]"
   ]
  },
  {
   "cell_type": "code",
   "execution_count": 6,
   "metadata": {},
   "outputs": [
    {
     "name": "stdout",
     "output_type": "stream",
     "text": [
      "11070 11070\n"
     ]
    }
   ],
   "source": [
    "print(len(df_first_revs), len(df_bus))"
   ]
  },
  {
   "cell_type": "code",
   "execution_count": 7,
   "metadata": {},
   "outputs": [
    {
     "data": {
      "text/html": [
       "<div>\n",
       "<style scoped>\n",
       "    .dataframe tbody tr th:only-of-type {\n",
       "        vertical-align: middle;\n",
       "    }\n",
       "\n",
       "    .dataframe tbody tr th {\n",
       "        vertical-align: top;\n",
       "    }\n",
       "\n",
       "    .dataframe thead th {\n",
       "        text-align: right;\n",
       "    }\n",
       "</style>\n",
       "<table border=\"1\" class=\"dataframe\">\n",
       "  <thead>\n",
       "    <tr style=\"text-align: right;\">\n",
       "      <th></th>\n",
       "      <th>business_id</th>\n",
       "      <th>first_date</th>\n",
       "    </tr>\n",
       "  </thead>\n",
       "  <tbody>\n",
       "    <tr>\n",
       "      <th>0</th>\n",
       "      <td>--OS_I7dnABrXvRCCuWOGQ</td>\n",
       "      <td>2016-01-18 15:35:18</td>\n",
       "    </tr>\n",
       "    <tr>\n",
       "      <th>1</th>\n",
       "      <td>-0M0b-XhtFagyLmsBtOe8w</td>\n",
       "      <td>2012-02-10 04:00:49</td>\n",
       "    </tr>\n",
       "    <tr>\n",
       "      <th>2</th>\n",
       "      <td>-0PN_KFPtbnLQZEeb23XiA</td>\n",
       "      <td>2009-10-16 15:24:48</td>\n",
       "    </tr>\n",
       "    <tr>\n",
       "      <th>3</th>\n",
       "      <td>-0TffRSXXIlBYVbb5AwfTg</td>\n",
       "      <td>2013-06-01 01:47:50</td>\n",
       "    </tr>\n",
       "    <tr>\n",
       "      <th>4</th>\n",
       "      <td>-0eUa8TsXFFy0FCxHYmrjg</td>\n",
       "      <td>2015-10-20 18:20:03</td>\n",
       "    </tr>\n",
       "  </tbody>\n",
       "</table>\n",
       "</div>"
      ],
      "text/plain": [
       "              business_id           first_date\n",
       "0  --OS_I7dnABrXvRCCuWOGQ  2016-01-18 15:35:18\n",
       "1  -0M0b-XhtFagyLmsBtOe8w  2012-02-10 04:00:49\n",
       "2  -0PN_KFPtbnLQZEeb23XiA  2009-10-16 15:24:48\n",
       "3  -0TffRSXXIlBYVbb5AwfTg  2013-06-01 01:47:50\n",
       "4  -0eUa8TsXFFy0FCxHYmrjg  2015-10-20 18:20:03"
      ]
     },
     "execution_count": 7,
     "metadata": {},
     "output_type": "execute_result"
    }
   ],
   "source": [
    "df_first_revs.rename(columns = {\"date\":\"first_date\"}, inplace=True)\n",
    "df_first_revs.head()"
   ]
  },
  {
   "cell_type": "code",
   "execution_count": 8,
   "metadata": {},
   "outputs": [
    {
     "data": {
      "text/html": [
       "<div>\n",
       "<style scoped>\n",
       "    .dataframe tbody tr th:only-of-type {\n",
       "        vertical-align: middle;\n",
       "    }\n",
       "\n",
       "    .dataframe tbody tr th {\n",
       "        vertical-align: top;\n",
       "    }\n",
       "\n",
       "    .dataframe thead th {\n",
       "        text-align: right;\n",
       "    }\n",
       "</style>\n",
       "<table border=\"1\" class=\"dataframe\">\n",
       "  <thead>\n",
       "    <tr style=\"text-align: right;\">\n",
       "      <th></th>\n",
       "      <th>review_id</th>\n",
       "      <th>user_id</th>\n",
       "      <th>business_id</th>\n",
       "      <th>stars</th>\n",
       "      <th>useful</th>\n",
       "      <th>funny</th>\n",
       "      <th>cool</th>\n",
       "      <th>text</th>\n",
       "      <th>date</th>\n",
       "    </tr>\n",
       "  </thead>\n",
       "  <tbody>\n",
       "    <tr>\n",
       "      <th>621505</th>\n",
       "      <td>g80vzN72iU03Wh0fSpq41g</td>\n",
       "      <td>3zBJUlWtPNoZ0uN83ODbyg</td>\n",
       "      <td>PP3BBaVxZLcJU54uP_wL6Q</td>\n",
       "      <td>5.0</td>\n",
       "      <td>0</td>\n",
       "      <td>0</td>\n",
       "      <td>0</td>\n",
       "      <td>These guys really are the king of cheese steak...</td>\n",
       "      <td>2005-02-16 04:06:26</td>\n",
       "    </tr>\n",
       "    <tr>\n",
       "      <th>278520</th>\n",
       "      <td>DTrvaOwqev-xhbqqblt7Tw</td>\n",
       "      <td>H4JNrBAoyCk_ZMZWbAf8OA</td>\n",
       "      <td>Co3Ogqy6y2JgZdG0wBlrUQ</td>\n",
       "      <td>5.0</td>\n",
       "      <td>0</td>\n",
       "      <td>0</td>\n",
       "      <td>4</td>\n",
       "      <td>THIS IS MY FAVORITE BAR IN PHILADELPHIA.  Oh T...</td>\n",
       "      <td>2005-05-25 01:12:54</td>\n",
       "    </tr>\n",
       "    <tr>\n",
       "      <th>186958</th>\n",
       "      <td>J3Jk5A1TnFeKf2SGNrZLrw</td>\n",
       "      <td>c8qFkI_VusWo0xZvkjfBWQ</td>\n",
       "      <td>RQAF6a0akMiot5lZZnMNNw</td>\n",
       "      <td>5.0</td>\n",
       "      <td>2</td>\n",
       "      <td>1</td>\n",
       "      <td>1</td>\n",
       "      <td>I lost a bet during undergrad at Carnegie Mell...</td>\n",
       "      <td>2005-05-26 04:09:08</td>\n",
       "    </tr>\n",
       "    <tr>\n",
       "      <th>277819</th>\n",
       "      <td>VT5V1Exe7LfzsnJ2XjMAPQ</td>\n",
       "      <td>c8qFkI_VusWo0xZvkjfBWQ</td>\n",
       "      <td>IkY2ticzHEn4QFn8hQLSWg</td>\n",
       "      <td>5.0</td>\n",
       "      <td>2</td>\n",
       "      <td>1</td>\n",
       "      <td>1</td>\n",
       "      <td>Geno's is superb, arguably the best in town.  ...</td>\n",
       "      <td>2005-05-26 04:20:21</td>\n",
       "    </tr>\n",
       "    <tr>\n",
       "      <th>622678</th>\n",
       "      <td>fMBtLRIO1iNnU0bloDlFcg</td>\n",
       "      <td>c8qFkI_VusWo0xZvkjfBWQ</td>\n",
       "      <td>PP3BBaVxZLcJU54uP_wL6Q</td>\n",
       "      <td>4.0</td>\n",
       "      <td>0</td>\n",
       "      <td>0</td>\n",
       "      <td>0</td>\n",
       "      <td>If you're in Philly you either love Pat's or G...</td>\n",
       "      <td>2005-05-26 04:28:58</td>\n",
       "    </tr>\n",
       "  </tbody>\n",
       "</table>\n",
       "</div>"
      ],
      "text/plain": [
       "                     review_id                 user_id  \\\n",
       "621505  g80vzN72iU03Wh0fSpq41g  3zBJUlWtPNoZ0uN83ODbyg   \n",
       "278520  DTrvaOwqev-xhbqqblt7Tw  H4JNrBAoyCk_ZMZWbAf8OA   \n",
       "186958  J3Jk5A1TnFeKf2SGNrZLrw  c8qFkI_VusWo0xZvkjfBWQ   \n",
       "277819  VT5V1Exe7LfzsnJ2XjMAPQ  c8qFkI_VusWo0xZvkjfBWQ   \n",
       "622678  fMBtLRIO1iNnU0bloDlFcg  c8qFkI_VusWo0xZvkjfBWQ   \n",
       "\n",
       "                   business_id  stars  useful  funny  cool  \\\n",
       "621505  PP3BBaVxZLcJU54uP_wL6Q    5.0       0      0     0   \n",
       "278520  Co3Ogqy6y2JgZdG0wBlrUQ    5.0       0      0     4   \n",
       "186958  RQAF6a0akMiot5lZZnMNNw    5.0       2      1     1   \n",
       "277819  IkY2ticzHEn4QFn8hQLSWg    5.0       2      1     1   \n",
       "622678  PP3BBaVxZLcJU54uP_wL6Q    4.0       0      0     0   \n",
       "\n",
       "                                                     text                 date  \n",
       "621505  These guys really are the king of cheese steak...  2005-02-16 04:06:26  \n",
       "278520  THIS IS MY FAVORITE BAR IN PHILADELPHIA.  Oh T...  2005-05-25 01:12:54  \n",
       "186958  I lost a bet during undergrad at Carnegie Mell...  2005-05-26 04:09:08  \n",
       "277819  Geno's is superb, arguably the best in town.  ...  2005-05-26 04:20:21  \n",
       "622678  If you're in Philly you either love Pat's or G...  2005-05-26 04:28:58  "
      ]
     },
     "execution_count": 8,
     "metadata": {},
     "output_type": "execute_result"
    }
   ],
   "source": [
    "df_rev.head()"
   ]
  },
  {
   "cell_type": "code",
   "execution_count": 9,
   "metadata": {},
   "outputs": [],
   "source": [
    "df_rev = df_rev.merge(df_first_revs, on=\"business_id\")\n",
    "\n",
    "df_rev = df_rev[[\"review_id\", \"business_id\", \"stars\", \"date\", \"first_date\"]]"
   ]
  },
  {
   "cell_type": "code",
   "execution_count": 10,
   "metadata": {},
   "outputs": [
    {
     "data": {
      "text/plain": [
       "(881973, 5)"
      ]
     },
     "execution_count": 10,
     "metadata": {},
     "output_type": "execute_result"
    }
   ],
   "source": [
    "df_rev.shape"
   ]
  },
  {
   "cell_type": "markdown",
   "metadata": {},
   "source": [
    "Το παρακατω θελει περιπου 50s για να τρεξει αφου καλει ενα function σε 881973 γραμμες, που χρησιμοποιει δυο στηλες και εχει μετατροπες ημερων. "
   ]
  },
  {
   "cell_type": "code",
   "execution_count": 11,
   "metadata": {},
   "outputs": [
    {
     "data": {
      "text/html": [
       "<div>\n",
       "<style scoped>\n",
       "    .dataframe tbody tr th:only-of-type {\n",
       "        vertical-align: middle;\n",
       "    }\n",
       "\n",
       "    .dataframe tbody tr th {\n",
       "        vertical-align: top;\n",
       "    }\n",
       "\n",
       "    .dataframe thead th {\n",
       "        text-align: right;\n",
       "    }\n",
       "</style>\n",
       "<table border=\"1\" class=\"dataframe\">\n",
       "  <thead>\n",
       "    <tr style=\"text-align: right;\">\n",
       "      <th></th>\n",
       "      <th>review_id</th>\n",
       "      <th>business_id</th>\n",
       "      <th>stars</th>\n",
       "      <th>date</th>\n",
       "      <th>first_date</th>\n",
       "      <th>month</th>\n",
       "    </tr>\n",
       "  </thead>\n",
       "  <tbody>\n",
       "    <tr>\n",
       "      <th>0</th>\n",
       "      <td>g80vzN72iU03Wh0fSpq41g</td>\n",
       "      <td>PP3BBaVxZLcJU54uP_wL6Q</td>\n",
       "      <td>5.0</td>\n",
       "      <td>2005-02-16 04:06:26</td>\n",
       "      <td>2005-02-16 04:06:26</td>\n",
       "      <td>0</td>\n",
       "    </tr>\n",
       "    <tr>\n",
       "      <th>1</th>\n",
       "      <td>fMBtLRIO1iNnU0bloDlFcg</td>\n",
       "      <td>PP3BBaVxZLcJU54uP_wL6Q</td>\n",
       "      <td>4.0</td>\n",
       "      <td>2005-05-26 04:28:58</td>\n",
       "      <td>2005-02-16 04:06:26</td>\n",
       "      <td>3</td>\n",
       "    </tr>\n",
       "    <tr>\n",
       "      <th>2</th>\n",
       "      <td>4sx5920CvYkvyupjeYxh0Q</td>\n",
       "      <td>PP3BBaVxZLcJU54uP_wL6Q</td>\n",
       "      <td>4.0</td>\n",
       "      <td>2005-10-30 02:44:52</td>\n",
       "      <td>2005-02-16 04:06:26</td>\n",
       "      <td>8</td>\n",
       "    </tr>\n",
       "    <tr>\n",
       "      <th>3</th>\n",
       "      <td>afVwJgO8FuEZjKM0JsgX1A</td>\n",
       "      <td>PP3BBaVxZLcJU54uP_wL6Q</td>\n",
       "      <td>5.0</td>\n",
       "      <td>2006-02-03 22:57:31</td>\n",
       "      <td>2005-02-16 04:06:26</td>\n",
       "      <td>11</td>\n",
       "    </tr>\n",
       "    <tr>\n",
       "      <th>4</th>\n",
       "      <td>BIYFISioE0g8UKXY161LmA</td>\n",
       "      <td>PP3BBaVxZLcJU54uP_wL6Q</td>\n",
       "      <td>4.0</td>\n",
       "      <td>2006-02-20 05:00:25</td>\n",
       "      <td>2005-02-16 04:06:26</td>\n",
       "      <td>12</td>\n",
       "    </tr>\n",
       "  </tbody>\n",
       "</table>\n",
       "</div>"
      ],
      "text/plain": [
       "                review_id             business_id  stars                 date  \\\n",
       "0  g80vzN72iU03Wh0fSpq41g  PP3BBaVxZLcJU54uP_wL6Q    5.0  2005-02-16 04:06:26   \n",
       "1  fMBtLRIO1iNnU0bloDlFcg  PP3BBaVxZLcJU54uP_wL6Q    4.0  2005-05-26 04:28:58   \n",
       "2  4sx5920CvYkvyupjeYxh0Q  PP3BBaVxZLcJU54uP_wL6Q    4.0  2005-10-30 02:44:52   \n",
       "3  afVwJgO8FuEZjKM0JsgX1A  PP3BBaVxZLcJU54uP_wL6Q    5.0  2006-02-03 22:57:31   \n",
       "4  BIYFISioE0g8UKXY161LmA  PP3BBaVxZLcJU54uP_wL6Q    4.0  2006-02-20 05:00:25   \n",
       "\n",
       "            first_date  month  \n",
       "0  2005-02-16 04:06:26      0  \n",
       "1  2005-02-16 04:06:26      3  \n",
       "2  2005-02-16 04:06:26      8  \n",
       "3  2005-02-16 04:06:26     11  \n",
       "4  2005-02-16 04:06:26     12  "
      ]
     },
     "execution_count": 11,
     "metadata": {},
     "output_type": "execute_result"
    }
   ],
   "source": [
    "df_rev[\"month\"] = df_rev.apply(lambda row: floor(int((datetime.datetime.strptime(row.date, '%Y-%m-%d %H:%M:%S') - datetime.datetime.strptime(row.first_date, '%Y-%m-%d %H:%M:%S')).days) / 30), axis=1)\n",
    "df_rev.shape\n",
    "df_rev.head()"
   ]
  },
  {
   "cell_type": "markdown",
   "metadata": {},
   "source": [
    "Με αυτον τον τροπο εχουμε στην στηλη month, σε καθε review, τους μηνες που περασαν απο το πρωτο review(σε εκεινο το καταστημα). "
   ]
  },
  {
   "cell_type": "code",
   "execution_count": 12,
   "metadata": {},
   "outputs": [
    {
     "data": {
      "text/plain": [
       "<AxesSubplot:xlabel='month', ylabel='stars'>"
      ]
     },
     "execution_count": 12,
     "metadata": {},
     "output_type": "execute_result"
    },
    {
     "data": {
      "image/png": "[encoded data removed]",
      "text/plain": [
       "<Figure size 576x576 with 1 Axes>"
      ]
     },
     "metadata": {
      "needs_background": "light"
     },
     "output_type": "display_data"
    }
   ],
   "source": [
    "plt.figure(figsize=(8, 8))\n",
    "sns.lineplot(data=df_rev, x = \"month\", y = \"stars\")"
   ]
  },
  {
   "cell_type": "markdown",
   "metadata": {},
   "source": [
    "Μπορούμε να παρατηρήσουμε ότι τα αστέρια των reviews, μέχρι τους 150 μήνες δείχνουν μια χαμηλή πτωτική πορεία, αλλά διατηρούν σχετικά σταθερές τιμές. Από τους 150 μήνες και έπειτα, τα αστέρια φαίνεται να έχουν μεγάλες διαφορές στις τιμές τους και αυτό μπορεί να οφείλεται στην έλλειψη reviews που απέχουν τόσους μήνες από το πρώτο review τους(αφού περίπου τα μισά reviews αφορούν τους πρώτους 60 μήνες)."
   ]
  },
  {
   "cell_type": "code",
   "execution_count": 13,
   "metadata": {},
   "outputs": [
    {
     "data": {
      "text/plain": [
       "(488360, 6)"
      ]
     },
     "execution_count": 13,
     "metadata": {},
     "output_type": "execute_result"
    }
   ],
   "source": [
    "df_rev_5_years = df_rev.loc[df_rev.month <= 60]\n",
    "df_rev_5_years.shape"
   ]
  },
  {
   "cell_type": "code",
   "execution_count": 14,
   "metadata": {},
   "outputs": [
    {
     "data": {
      "text/plain": [
       "<AxesSubplot:xlabel='month', ylabel='stars'>"
      ]
     },
     "execution_count": 14,
     "metadata": {},
     "output_type": "execute_result"
    },
    {
     "data": {
      "image/png": "[encoded data removed]",
      "text/plain": [
       "<Figure size 576x576 with 1 Axes>"
      ]
     },
     "metadata": {
      "needs_background": "light"
     },
     "output_type": "display_data"
    }
   ],
   "source": [
    "plt.figure(figsize=(8, 8))\n",
    "sns.lineplot(data = df_rev_5_years, x = \"month\", y = \"stars\", ci=95)"
   ]
  },
  {
   "cell_type": "markdown",
   "metadata": {},
   "source": [
    "## Τελικά Συμπεράσματα\n",
    "Σε αυτό το διάγραμμα μπορούμε να παρατηρήσουμε, πιο ξεκάθαρα από το πρώτο διάγραμμα, από τα πρώτα reviews μέχρι τα reviews που απέχουν 60 μήνες, μια πτωτική τάση για περίπου 0.3 αστέρια. Αυτό μπορεί να οφείλεται στο γεγονός ότι τα καταστήματα γίνονται χειροτέρα στις υπηρεσίες τους με την πάροδο του χρόνου ή πως με την πάροδο του χρόνου ο ενθουσιασμός για ένα κατάστημα πέφτει. "
   ]
  }
 ],
 "metadata": {
  "kernelspec": {
   "display_name": "Python 3 (ipykernel)",
   "language": "python",
   "name": "python3"
  },
  "language_info": {
   "codemirror_mode": {
    "name": "ipython",
    "version": 3
   },
   "file_extension": ".py",
   "mimetype": "text/x-python",
   "name": "python",
   "nbconvert_exporter": "python",
   "pygments_lexer": "ipython3",
   "version": "3.9.7"
  },
  "vscode": {
   "interpreter": {
    "hash": "5bf5137ea94996cf045b4e01cc05ea6528fbc1ec529e737db76b4d8a5ada53af"
   }
  }
 },
 "nbformat": 4,
 "nbformat_minor": 2
}
