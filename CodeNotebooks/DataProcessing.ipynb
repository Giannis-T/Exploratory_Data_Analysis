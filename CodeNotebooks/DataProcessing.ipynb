{
 "cells": [
  {
   "attachments": {},
   "cell_type": "markdown",
   "metadata": {},
   "source": [
    "# Data Processing\n",
    "#### Θα ξεκινήσουμε να κάνουμε process τα business data."
   ]
  },
  {
   "cell_type": "code",
   "execution_count": 1,
   "metadata": {},
   "outputs": [],
   "source": [
    "import pandas as pd\n",
    "import numpy as np\n"
   ]
  },
  {
   "cell_type": "code",
   "execution_count": 2,
   "metadata": {},
   "outputs": [
    {
     "data": {
      "text/plain": [
       "(150346, 14)"
      ]
     },
     "execution_count": 2,
     "metadata": {},
     "output_type": "execute_result"
    }
   ],
   "source": [
    "business_json_path = 'yelp_dataset/yelp_academic_dataset_business.json'\n",
    "df = pd.read_json(business_json_path, lines=True)\n",
    "df.shape"
   ]
  },
  {
   "cell_type": "code",
   "execution_count": 3,
   "metadata": {},
   "outputs": [
    {
     "data": {
      "text/plain": [
       "(14569, 14)"
      ]
     },
     "execution_count": 3,
     "metadata": {},
     "output_type": "execute_result"
    }
   ],
   "source": [
    "df_valid = df.loc[df['city'] == \"Philadelphia\"]\n",
    "df_valid.shape"
   ]
  },
  {
   "cell_type": "code",
   "execution_count": 4,
   "metadata": {},
   "outputs": [
    {
     "data": {
      "text/plain": [
       "(11070, 14)"
      ]
     },
     "execution_count": 4,
     "metadata": {},
     "output_type": "execute_result"
    }
   ],
   "source": [
    "df_valid=df_valid.dropna().reset_index(drop=True)\n",
    "df_valid.shape"
   ]
  },
  {
   "cell_type": "code",
   "execution_count": 5,
   "metadata": {},
   "outputs": [],
   "source": [
    "df_valid.to_csv(\"business.csv\")\n"
   ]
  },
  {
   "cell_type": "code",
   "execution_count": 6,
   "metadata": {},
   "outputs": [
    {
     "data": {
      "text/plain": [
       "(11070, 15)"
      ]
     },
     "execution_count": 6,
     "metadata": {},
     "output_type": "execute_result"
    }
   ],
   "source": [
    "df_bus = pd.read_csv(\"business.csv\")\n",
    "df_bus.shape\n"
   ]
  },
  {
   "cell_type": "markdown",
   "metadata": {},
   "source": [
    "Θα φτιάξουμε ένα set με όλα τα business ids, ώστε να μπορέσουμε να κάνουμε το φιλτράρισμα των reviews, κοιτάζοντας αν το business_id του review βρίσκεται μεσα στο business_id_set. Ο κάθε τέτοιος έλεγχος γίνεται περίπου σε O(1) χρόνο λόγο της δομής δεδομένων set.  (Εδώ και στην Ερώτηση3.Ζ είναι τα μόνα σημεία που έχω χρησιμοποιήσει set)"
   ]
  },
  {
   "cell_type": "code",
   "execution_count": 7,
   "metadata": {},
   "outputs": [
    {
     "name": "stdout",
     "output_type": "stream",
     "text": [
      "11070\n"
     ]
    }
   ],
   "source": [
    "business_id_set = set(df_bus.business_id)\n",
    "\n",
    "print(len(business_id_set))\n"
   ]
  },
  {
   "cell_type": "markdown",
   "metadata": {},
   "source": [
    "Ως αναφορα τα reviews, δεν μπορουμε να τα βαλουμε σε Dataframe γιατι ειναι πολλα και θα πρεπει πρωτα να τα φιτραρουμε διαβαζωντας τα γραμμη-γραμμη.\n",
    "Θελουμε να κρατησουμε μονο αυτα που το business_id τους, ειναι στην λιστα με τα busness_id(στα παραπανω) "
   ]
  },
  {
   "cell_type": "code",
   "execution_count": 8,
   "metadata": {},
   "outputs": [],
   "source": [
    "import json\n",
    "review_json_path = 'yelp_dataset/yelp_academic_dataset_review.json'\n",
    "\n"
   ]
  },
  {
   "cell_type": "code",
   "execution_count": 9,
   "metadata": {},
   "outputs": [
    {
     "name": "stdout",
     "output_type": "stream",
     "text": [
      "881973\n"
     ]
    }
   ],
   "source": [
    "f = open(review_json_path, 'r')\n",
    "review_business_id_list = []\n",
    "\n",
    "count = 0\n",
    "while True:\n",
    "    try:\n",
    "        line = f.readline()\n",
    "        if line[88: 110] in business_id_set:# business_id_set:\n",
    "            review_business_id_list.append(line)\n",
    "        if line == \"\":\n",
    "            break\n",
    "    \n",
    "    except:\n",
    "        continue\n",
    "    \n",
    "print(len(review_business_id_list))\n",
    "f.close()"
   ]
  },
  {
   "cell_type": "markdown",
   "metadata": {},
   "source": [
    "Σε αυτο το σημειο εχουμε μια λιστα review_business_id_list που περιεχει ολα τα reviews που αντιστοιχουν στις επιχειρησεις που συγκεντρωσαμε παραπανω business.json. Τωρα, θελουμε να φερουμε τα reviews σε καταλληλη μορφη ωστε να βγαζουν νοημα στο csv.\n",
    "Για αυτο αρχικα θα χωρισω το καθε review στα ,\" που δηλωνη την εισαγωγη του επομενου πεδιου.\n",
    "Στην συνεχεια, θελουμε να αποσπασουμε το information μεσα απο καθε ζευγαρι (attribute:information) ετσι ωστε να βαλουμε την καταλληλη τιμη κατω απο καθε header του csv."
   ]
  },
  {
   "cell_type": "code",
   "execution_count": 10,
   "metadata": {},
   "outputs": [],
   "source": [
    "lst = review_business_id_list[0].split(\",\\\"\")\n",
    "import csv\n",
    "with open(\"reviews.csv\", 'w') as f:\n",
    "    writer = csv.writer(f)\n",
    "    writer.writerow(['review_id', 'user_id', 'business_id', 'stars', 'useful', 'funny', 'cool', 'text', 'date']) \n",
    "    attr_list = []\n",
    "    for review in review_business_id_list:\n",
    "        review_list = review.split(\",\\\"\")\n",
    "\n",
    "        for attribute in review_list:\n",
    "            try:\n",
    "                if attribute == '...' or attribute=='':\n",
    "                    continue\n",
    "                \n",
    "                info = attribute.split(\":\",1)[1]\n",
    "                if info[0] == '\"':\n",
    "                    attr_list.append(info.strip().strip('}\"'))\n",
    "                else:\n",
    "                    attr_list.append(info) \n",
    "            except:\n",
    "                print(review)\n",
    "                print(\"///////////////\")\n",
    "                print(review_list)\n",
    "                print(\"///////////////\")\n",
    "                print(attribute)\n",
    "                raise Exception(\"--------------------------\")\n",
    "        writer.writerow(attr_list)\n",
    "        attr_list = []\n"
   ]
  },
  {
   "cell_type": "code",
   "execution_count": 11,
   "metadata": {},
   "outputs": [],
   "source": [
    "df_rev = pd.read_csv('reviews.csv')\n"
   ]
  },
  {
   "cell_type": "code",
   "execution_count": 12,
   "metadata": {},
   "outputs": [
    {
     "name": "stdout",
     "output_type": "stream",
     "text": [
      "(881973, 9)\n"
     ]
    },
    {
     "data": {
      "text/html": [
       "<div>\n",
       "<style scoped>\n",
       "    .dataframe tbody tr th:only-of-type {\n",
       "        vertical-align: middle;\n",
       "    }\n",
       "\n",
       "    .dataframe tbody tr th {\n",
       "        vertical-align: top;\n",
       "    }\n",
       "\n",
       "    .dataframe thead th {\n",
       "        text-align: right;\n",
       "    }\n",
       "</style>\n",
       "<table border=\"1\" class=\"dataframe\">\n",
       "  <thead>\n",
       "    <tr style=\"text-align: right;\">\n",
       "      <th></th>\n",
       "      <th>review_id</th>\n",
       "      <th>user_id</th>\n",
       "      <th>business_id</th>\n",
       "      <th>stars</th>\n",
       "      <th>useful</th>\n",
       "      <th>funny</th>\n",
       "      <th>cool</th>\n",
       "      <th>text</th>\n",
       "      <th>date</th>\n",
       "    </tr>\n",
       "  </thead>\n",
       "  <tbody>\n",
       "    <tr>\n",
       "      <th>0</th>\n",
       "      <td>BiTunyQ73aT9WBnpR9DZGw</td>\n",
       "      <td>OyoGAe7OKpv6SyGZT5g77Q</td>\n",
       "      <td>7ATYjTIgM3jUlt4UM3IypQ</td>\n",
       "      <td>5.0</td>\n",
       "      <td>1</td>\n",
       "      <td>0</td>\n",
       "      <td>1</td>\n",
       "      <td>I've taken a lot of spin classes over the year...</td>\n",
       "      <td>2012-01-03 15:28:18</td>\n",
       "    </tr>\n",
       "    <tr>\n",
       "      <th>1</th>\n",
       "      <td>AqPFMleE6RsU23_auESxiA</td>\n",
       "      <td>_7bHUi9Uuf5__HHc_Q8guQ</td>\n",
       "      <td>kxX2SOes4o-D3ZQBkiMRfA</td>\n",
       "      <td>5.0</td>\n",
       "      <td>1</td>\n",
       "      <td>0</td>\n",
       "      <td>1</td>\n",
       "      <td>Wow!  Yummy, different,  delicious.   Our favo...</td>\n",
       "      <td>2015-01-04 00:01:03</td>\n",
       "    </tr>\n",
       "    <tr>\n",
       "      <th>2</th>\n",
       "      <td>JrIxlS1TzJ-iCu79ul40cQ</td>\n",
       "      <td>eUta8W_HdHMXPzLBBZhL1A</td>\n",
       "      <td>04UD14gamNjLY0IDYVhHJg</td>\n",
       "      <td>1.0</td>\n",
       "      <td>1</td>\n",
       "      <td>2</td>\n",
       "      <td>1</td>\n",
       "      <td>I am a long term frequent customer of this est...</td>\n",
       "      <td>2015-09-23 23:10:31</td>\n",
       "    </tr>\n",
       "    <tr>\n",
       "      <th>3</th>\n",
       "      <td>8JFGBuHMoiNDyfcxuWNtrA</td>\n",
       "      <td>smOvOajNG0lS4Pq7d8g4JQ</td>\n",
       "      <td>RZtGWDLCAtuipwaZ-UfjmQ</td>\n",
       "      <td>4.0</td>\n",
       "      <td>0</td>\n",
       "      <td>0</td>\n",
       "      <td>0</td>\n",
       "      <td>Good food--loved the gnocchi with marinara\\nth...</td>\n",
       "      <td>2009-10-14 19:57:14</td>\n",
       "    </tr>\n",
       "    <tr>\n",
       "      <th>4</th>\n",
       "      <td>oyaMhzBSwfGgemSGuZCdwQ</td>\n",
       "      <td>Dd1jQj7S-BFGqRbApFzCFw</td>\n",
       "      <td>YtSqYv1Q_pOltsVPSx54SA</td>\n",
       "      <td>5.0</td>\n",
       "      <td>0</td>\n",
       "      <td>0</td>\n",
       "      <td>0</td>\n",
       "      <td>Tremendous service (Big shout out to Douglas) ...</td>\n",
       "      <td>2013-06-24 11:21:25</td>\n",
       "    </tr>\n",
       "  </tbody>\n",
       "</table>\n",
       "</div>"
      ],
      "text/plain": [
       "                review_id                 user_id             business_id  \\\n",
       "0  BiTunyQ73aT9WBnpR9DZGw  OyoGAe7OKpv6SyGZT5g77Q  7ATYjTIgM3jUlt4UM3IypQ   \n",
       "1  AqPFMleE6RsU23_auESxiA  _7bHUi9Uuf5__HHc_Q8guQ  kxX2SOes4o-D3ZQBkiMRfA   \n",
       "2  JrIxlS1TzJ-iCu79ul40cQ  eUta8W_HdHMXPzLBBZhL1A  04UD14gamNjLY0IDYVhHJg   \n",
       "3  8JFGBuHMoiNDyfcxuWNtrA  smOvOajNG0lS4Pq7d8g4JQ  RZtGWDLCAtuipwaZ-UfjmQ   \n",
       "4  oyaMhzBSwfGgemSGuZCdwQ  Dd1jQj7S-BFGqRbApFzCFw  YtSqYv1Q_pOltsVPSx54SA   \n",
       "\n",
       "   stars  useful  funny  cool  \\\n",
       "0    5.0       1      0     1   \n",
       "1    5.0       1      0     1   \n",
       "2    1.0       1      2     1   \n",
       "3    4.0       0      0     0   \n",
       "4    5.0       0      0     0   \n",
       "\n",
       "                                                text                 date  \n",
       "0  I've taken a lot of spin classes over the year...  2012-01-03 15:28:18  \n",
       "1  Wow!  Yummy, different,  delicious.   Our favo...  2015-01-04 00:01:03  \n",
       "2  I am a long term frequent customer of this est...  2015-09-23 23:10:31  \n",
       "3  Good food--loved the gnocchi with marinara\\nth...  2009-10-14 19:57:14  \n",
       "4  Tremendous service (Big shout out to Douglas) ...  2013-06-24 11:21:25  "
      ]
     },
     "execution_count": 12,
     "metadata": {},
     "output_type": "execute_result"
    }
   ],
   "source": [
    "print(df_rev.shape)\n",
    "df_rev.head()"
   ]
  },
  {
   "cell_type": "markdown",
   "metadata": {},
   "source": [
    "## Τέλος | Data Processing\n",
    "Σε αυτό το σημείο έχουμε τελειώσει με το Data Processing, έχοντας δημιουργήσει δύο csv αρχεία, business.csv και review.csv και ξεκινάμε να απαντάμε στα ερωτήματα της άσκησης.\n"
   ]
  }
 ],
 "metadata": {
  "kernelspec": {
   "display_name": "Python 3 (ipykernel)",
   "language": "python",
   "name": "python3"
  },
  "language_info": {
   "codemirror_mode": {
    "name": "ipython",
    "version": 3
   },
   "file_extension": ".py",
   "mimetype": "text/x-python",
   "name": "python",
   "nbconvert_exporter": "python",
   "pygments_lexer": "ipython3",
   "version": "3.9.7"
  },
  "vscode": {
   "interpreter": {
    "hash": "5bf5137ea94996cf045b4e01cc05ea6528fbc1ec529e737db76b4d8a5ada53af"
   }
  }
 },
 "nbformat": 4,
 "nbformat_minor": 2
}
