{
 "cells": [
  {
   "cell_type": "markdown",
   "metadata": {},
   "source": [
    "## Ερώτηση 3 | 3.Η\n",
    "\n",
    "Η υπόθεση μου αφορά τα εστιατόρια που έχουν πολλές κατηγορίες προϊόντων, πως κατά μέσο όρο θα έχουν καλύτερα star ratings από αυτά που έχουν λιγότερες. Αυτό μπορεί να είναι πολύ χρήσιμο έναν επιχειρηματία που θέλει να δει αν αξίζει να προσθέσει μια καινούργια κατηγορία προϊόντων στο εστιατόριο του."
   ]
  },
  {
   "cell_type": "code",
   "execution_count": 1,
   "metadata": {},
   "outputs": [],
   "source": [
    "import pandas as pd\n",
    "import scipy as sp \n",
    "from scipy import stats\n",
    "from matplotlib import pyplot as plt\n",
    "import numpy as np\n",
    "import seaborn as sns\n",
    "%matplotlib inline"
   ]
  },
  {
   "cell_type": "code",
   "execution_count": 2,
   "metadata": {},
   "outputs": [
    {
     "data": {
      "text/plain": [
       "'Restaurants, Food, Bubble Tea, Coffee & Tea, Bakeries'"
      ]
     },
     "execution_count": 2,
     "metadata": {},
     "output_type": "execute_result"
    }
   ],
   "source": [
    "df_res =  pd.read_csv('restaurants.csv')\n",
    "df_res.shape\n",
    "df_res.categories[0]"
   ]
  },
  {
   "cell_type": "code",
   "execution_count": 3,
   "metadata": {},
   "outputs": [
    {
     "name": "stdout",
     "output_type": "stream",
     "text": [
      "(19, 2)\n"
     ]
    },
    {
     "data": {
      "text/html": [
       "<div>\n",
       "<style scoped>\n",
       "    .dataframe tbody tr th:only-of-type {\n",
       "        vertical-align: middle;\n",
       "    }\n",
       "\n",
       "    .dataframe tbody tr th {\n",
       "        vertical-align: top;\n",
       "    }\n",
       "\n",
       "    .dataframe thead th {\n",
       "        text-align: right;\n",
       "    }\n",
       "</style>\n",
       "<table border=\"1\" class=\"dataframe\">\n",
       "  <thead>\n",
       "    <tr style=\"text-align: right;\">\n",
       "      <th></th>\n",
       "      <th>stars</th>\n",
       "      <th>num_categories</th>\n",
       "    </tr>\n",
       "  </thead>\n",
       "  <tbody>\n",
       "    <tr>\n",
       "      <th>0</th>\n",
       "      <td>3.500000</td>\n",
       "      <td>1</td>\n",
       "    </tr>\n",
       "    <tr>\n",
       "      <th>1</th>\n",
       "      <td>3.547362</td>\n",
       "      <td>2</td>\n",
       "    </tr>\n",
       "    <tr>\n",
       "      <th>2</th>\n",
       "      <td>3.532103</td>\n",
       "      <td>3</td>\n",
       "    </tr>\n",
       "    <tr>\n",
       "      <th>3</th>\n",
       "      <td>3.493678</td>\n",
       "      <td>4</td>\n",
       "    </tr>\n",
       "    <tr>\n",
       "      <th>4</th>\n",
       "      <td>3.573227</td>\n",
       "      <td>5</td>\n",
       "    </tr>\n",
       "  </tbody>\n",
       "</table>\n",
       "</div>"
      ],
      "text/plain": [
       "      stars  num_categories\n",
       "0  3.500000               1\n",
       "1  3.547362               2\n",
       "2  3.532103               3\n",
       "3  3.493678               4\n",
       "4  3.573227               5"
      ]
     },
     "execution_count": 3,
     "metadata": {},
     "output_type": "execute_result"
    }
   ],
   "source": [
    "df_res[\"num_categories\"] = df_res.categories.apply(lambda c : len(c.split(',')))\n",
    "df_res = df_res[[\"num_categories\", \"stars\"]]\n",
    "df_res = pd.DataFrame(df_res.groupby(by=\"num_categories\")[\"stars\"].mean())\n",
    "df_res[\"num_categories\"] = df_res.index\n",
    "df_res.reset_index(drop=True, inplace=True)\n",
    "print(df_res.shape)\n",
    "df_res.head()"
   ]
  },
  {
   "cell_type": "code",
   "execution_count": 4,
   "metadata": {},
   "outputs": [
    {
     "data": {
      "text/plain": [
       "<AxesSubplot:xlabel='num_categories', ylabel='stars'>"
      ]
     },
     "execution_count": 4,
     "metadata": {},
     "output_type": "execute_result"
    },
    {
     "data": {
      "image/png": "[encoded data removed]",
      "text/plain": [
       "<Figure size 432x288 with 1 Axes>"
      ]
     },
     "metadata": {
      "needs_background": "light"
     },
     "output_type": "display_data"
    }
   ],
   "source": [
    "sns.lineplot(data=df_res, x = \"num_categories\", y = \"stars\")"
   ]
  },
  {
   "cell_type": "markdown",
   "metadata": {},
   "source": [
    "Βλεπουμε πως οσο αυξανονται οι κατηγοριες αυξανονται και αστερια των καταστηματων. Θα δουμε μεχρι τις 15 κατηγοριες γιατι το πληθος καταστηματων με περισσοτερες απο 15 ειναι χαμηλο."
   ]
  },
  {
   "cell_type": "code",
   "execution_count": 5,
   "metadata": {},
   "outputs": [
    {
     "data": {
      "text/plain": [
       "<AxesSubplot:xlabel='num_categories', ylabel='stars'>"
      ]
     },
     "execution_count": 5,
     "metadata": {},
     "output_type": "execute_result"
    },
    {
     "data": {
      "image/png": "[encoded data removed]",
      "text/plain": [
       "<Figure size 432x288 with 1 Axes>"
      ]
     },
     "metadata": {
      "needs_background": "light"
     },
     "output_type": "display_data"
    }
   ],
   "source": [
    "sns.lineplot(data=df_res[df_res.num_categories < 15], x = \"num_categories\", y = \"stars\")"
   ]
  },
  {
   "cell_type": "markdown",
   "metadata": {},
   "source": [
    "Εδω φαινεται καλυτερα πως οσο αυξανεται το πληθος κατηγοριων αυξανεται σημαντικα και το πληθος αστεριων.\n",
    "Τωρα, θα δουμε αν αυτη η αυξηση ειναι στατιστικα σημαντικη."
   ]
  },
  {
   "cell_type": "code",
   "execution_count": 6,
   "metadata": {},
   "outputs": [
    {
     "name": "stdout",
     "output_type": "stream",
     "text": [
      "                   stars  num_categories\n",
      "stars           1.000000        0.904639\n",
      "num_categories  0.904639        1.000000\n"
     ]
    },
    {
     "data": {
      "text/plain": [
       "<AxesSubplot:>"
      ]
     },
     "execution_count": 6,
     "metadata": {},
     "output_type": "execute_result"
    },
    {
     "data": {
      "image/png": "[encoded data removed]",
      "text/plain": [
       "<Figure size 432x288 with 2 Axes>"
      ]
     },
     "metadata": {
      "needs_background": "light"
     },
     "output_type": "display_data"
    }
   ],
   "source": [
    "print(df_res.corr())\n",
    "sns.heatmap(df_res.corr(), annot=True)"
   ]
  },
  {
   "cell_type": "code",
   "execution_count": 7,
   "metadata": {},
   "outputs": [
    {
     "name": "stdout",
     "output_type": "stream",
     "text": [
      "(0.9046385213095056, 1.0519304933653965e-07)\n"
     ]
    }
   ],
   "source": [
    "print(stats.pearsonr(df_res.num_categories, df_res.stars))\n"
   ]
  },
  {
   "cell_type": "markdown",
   "metadata": {},
   "source": [
    "## Τελικά Συμπεράσματα\n",
    "Μπορούμε να δούμε πως το p-value είναι πολύ μικρότερο από το a = 0.05 , αρά είμαστε πολύ σίγουροι ότι τα αποτελέσματα δεν είναι τυχαία και υπάρχει συσχέτιση μεταξύ των αστερίων και του πλήθους κατηγοριών του εστιατορίου. Θα προτείναμε στο καταστηματάρχη να προσθέσει καινούργια κατηγορία προϊόντων."
   ]
  }
 ],
 "metadata": {
  "kernelspec": {
   "display_name": "Python 3 (ipykernel)",
   "language": "python",
   "name": "python3"
  },
  "language_info": {
   "codemirror_mode": {
    "name": "ipython",
    "version": 3
   },
   "file_extension": ".py",
   "mimetype": "text/x-python",
   "name": "python",
   "nbconvert_exporter": "python",
   "pygments_lexer": "ipython3",
   "version": "3.9.7"
  },
  "vscode": {
   "interpreter": {
    "hash": "5bf5137ea94996cf045b4e01cc05ea6528fbc1ec529e737db76b4d8a5ada53af"
   }
  }
 },
 "nbformat": 4,
 "nbformat_minor": 2
}
